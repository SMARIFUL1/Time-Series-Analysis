{
 "cells": [
  {
   "cell_type": "code",
   "id": "initial_id",
   "metadata": {
    "collapsed": true,
    "ExecuteTime": {
     "end_time": "2024-08-09T21:13:24.112785Z",
     "start_time": "2024-08-09T21:13:24.079116Z"
    }
   },
   "source": [
    "import numpy as np\n",
    "import pandas as pd\n",
    "from sklearn.model_selection import train_test_split\n",
    "import torch\n",
    "import torch.nn as nn\n",
    "from torch.utils.data import Dataset, DataLoader, TensorDataset\n",
    "from torchsummary import summary\n",
    "import warnings\n",
    "warnings.filterwarnings(\"ignore\")"
   ],
   "outputs": [],
   "execution_count": 15
  },
  {
   "metadata": {
    "ExecuteTime": {
     "end_time": "2024-08-09T20:47:55.857155Z",
     "start_time": "2024-08-09T20:47:55.694183Z"
    }
   },
   "cell_type": "code",
   "source": [
    "df = pd.read_csv(\"D:\\data\\Student_performance_data _.csv\")\n",
    "df.sample(5)"
   ],
   "id": "5bd0c7dd33734209",
   "outputs": [
    {
     "data": {
      "text/plain": [
       "      StudentID  Age  Gender  Ethnicity  ParentalEducation  StudyTimeWeekly  \\\n",
       "130        1131   18       1          0                  1        16.659883   \n",
       "2271       3272   15       0          2                  1        14.321261   \n",
       "459        1460   17       0          0                  3         0.876937   \n",
       "846        1847   16       1          1                  2        16.027041   \n",
       "1814       2815   18       1          1                  3         5.043640   \n",
       "\n",
       "      Absences  Tutoring  ParentalSupport  Extracurricular  Sports  Music  \\\n",
       "130          9         0                1                0       0      0   \n",
       "2271        25         1                3                0       0      0   \n",
       "459          3         1                2                0       1      1   \n",
       "846         23         1                3                1       1      0   \n",
       "1814        29         1                2                1       0      0   \n",
       "\n",
       "      Volunteering       GPA  GradeClass  \n",
       "130              0  2.104796         3.0  \n",
       "2271             0  1.302393         4.0  \n",
       "459              0  3.004233         1.0  \n",
       "846              1  1.767647         4.0  \n",
       "1814             0  0.210979         4.0  "
      ],
      "text/html": [
       "<div>\n",
       "<style scoped>\n",
       "    .dataframe tbody tr th:only-of-type {\n",
       "        vertical-align: middle;\n",
       "    }\n",
       "\n",
       "    .dataframe tbody tr th {\n",
       "        vertical-align: top;\n",
       "    }\n",
       "\n",
       "    .dataframe thead th {\n",
       "        text-align: right;\n",
       "    }\n",
       "</style>\n",
       "<table border=\"1\" class=\"dataframe\">\n",
       "  <thead>\n",
       "    <tr style=\"text-align: right;\">\n",
       "      <th></th>\n",
       "      <th>StudentID</th>\n",
       "      <th>Age</th>\n",
       "      <th>Gender</th>\n",
       "      <th>Ethnicity</th>\n",
       "      <th>ParentalEducation</th>\n",
       "      <th>StudyTimeWeekly</th>\n",
       "      <th>Absences</th>\n",
       "      <th>Tutoring</th>\n",
       "      <th>ParentalSupport</th>\n",
       "      <th>Extracurricular</th>\n",
       "      <th>Sports</th>\n",
       "      <th>Music</th>\n",
       "      <th>Volunteering</th>\n",
       "      <th>GPA</th>\n",
       "      <th>GradeClass</th>\n",
       "    </tr>\n",
       "  </thead>\n",
       "  <tbody>\n",
       "    <tr>\n",
       "      <th>130</th>\n",
       "      <td>1131</td>\n",
       "      <td>18</td>\n",
       "      <td>1</td>\n",
       "      <td>0</td>\n",
       "      <td>1</td>\n",
       "      <td>16.659883</td>\n",
       "      <td>9</td>\n",
       "      <td>0</td>\n",
       "      <td>1</td>\n",
       "      <td>0</td>\n",
       "      <td>0</td>\n",
       "      <td>0</td>\n",
       "      <td>0</td>\n",
       "      <td>2.104796</td>\n",
       "      <td>3.0</td>\n",
       "    </tr>\n",
       "    <tr>\n",
       "      <th>2271</th>\n",
       "      <td>3272</td>\n",
       "      <td>15</td>\n",
       "      <td>0</td>\n",
       "      <td>2</td>\n",
       "      <td>1</td>\n",
       "      <td>14.321261</td>\n",
       "      <td>25</td>\n",
       "      <td>1</td>\n",
       "      <td>3</td>\n",
       "      <td>0</td>\n",
       "      <td>0</td>\n",
       "      <td>0</td>\n",
       "      <td>0</td>\n",
       "      <td>1.302393</td>\n",
       "      <td>4.0</td>\n",
       "    </tr>\n",
       "    <tr>\n",
       "      <th>459</th>\n",
       "      <td>1460</td>\n",
       "      <td>17</td>\n",
       "      <td>0</td>\n",
       "      <td>0</td>\n",
       "      <td>3</td>\n",
       "      <td>0.876937</td>\n",
       "      <td>3</td>\n",
       "      <td>1</td>\n",
       "      <td>2</td>\n",
       "      <td>0</td>\n",
       "      <td>1</td>\n",
       "      <td>1</td>\n",
       "      <td>0</td>\n",
       "      <td>3.004233</td>\n",
       "      <td>1.0</td>\n",
       "    </tr>\n",
       "    <tr>\n",
       "      <th>846</th>\n",
       "      <td>1847</td>\n",
       "      <td>16</td>\n",
       "      <td>1</td>\n",
       "      <td>1</td>\n",
       "      <td>2</td>\n",
       "      <td>16.027041</td>\n",
       "      <td>23</td>\n",
       "      <td>1</td>\n",
       "      <td>3</td>\n",
       "      <td>1</td>\n",
       "      <td>1</td>\n",
       "      <td>0</td>\n",
       "      <td>1</td>\n",
       "      <td>1.767647</td>\n",
       "      <td>4.0</td>\n",
       "    </tr>\n",
       "    <tr>\n",
       "      <th>1814</th>\n",
       "      <td>2815</td>\n",
       "      <td>18</td>\n",
       "      <td>1</td>\n",
       "      <td>1</td>\n",
       "      <td>3</td>\n",
       "      <td>5.043640</td>\n",
       "      <td>29</td>\n",
       "      <td>1</td>\n",
       "      <td>2</td>\n",
       "      <td>1</td>\n",
       "      <td>0</td>\n",
       "      <td>0</td>\n",
       "      <td>0</td>\n",
       "      <td>0.210979</td>\n",
       "      <td>4.0</td>\n",
       "    </tr>\n",
       "  </tbody>\n",
       "</table>\n",
       "</div>"
      ]
     },
     "execution_count": 2,
     "metadata": {},
     "output_type": "execute_result"
    }
   ],
   "execution_count": 2
  },
  {
   "metadata": {
    "ExecuteTime": {
     "end_time": "2024-08-09T20:48:47.498970Z",
     "start_time": "2024-08-09T20:48:47.483083Z"
    }
   },
   "cell_type": "code",
   "source": "df.isnull().sum()",
   "id": "a0ba64f8362529ba",
   "outputs": [
    {
     "data": {
      "text/plain": [
       "StudentID            0\n",
       "Age                  0\n",
       "Gender               0\n",
       "Ethnicity            0\n",
       "ParentalEducation    0\n",
       "StudyTimeWeekly      0\n",
       "Absences             0\n",
       "Tutoring             0\n",
       "ParentalSupport      0\n",
       "Extracurricular      0\n",
       "Sports               0\n",
       "Music                0\n",
       "Volunteering         0\n",
       "GPA                  0\n",
       "GradeClass           0\n",
       "dtype: int64"
      ]
     },
     "execution_count": 4,
     "metadata": {},
     "output_type": "execute_result"
    }
   ],
   "execution_count": 4
  },
  {
   "metadata": {
    "ExecuteTime": {
     "end_time": "2024-08-09T20:52:36.021348Z",
     "start_time": "2024-08-09T20:52:35.961953Z"
    }
   },
   "cell_type": "code",
   "source": [
    "#split dataset\n",
    "\n",
    "#convert numpy arrays\n",
    "X = df.drop(columns=['Ethnicity', 'StudentID']).values\n",
    "y = df['Ethnicity'].values\n",
    "\n",
    "X_train, X_test, y_train, y_test = train_test_split(X, y, test_size=0.2, random_state=42, shuffle=True)\n",
    "\n",
    "print('X_train shape is : {}'.format(X_train.shape),'\\n')\n",
    "print('X_test  shape is : {}'.format(X_test.shape),'\\n')\n",
    "print('y_train shape is : {}'.format(y_train.shape),'\\n')\n",
    "print('y_test  shape is : {}'.format(y_test.shape),'\\n')"
   ],
   "id": "3d6849ce9c80f0d1",
   "outputs": [
    {
     "name": "stdout",
     "output_type": "stream",
     "text": [
      "X_train shape is : (1913, 13) \n",
      "\n",
      "X_test  shape is : (479, 13) \n",
      "\n",
      "y_train shape is : (1913,) \n",
      "\n",
      "y_test  shape is : (479,) \n",
      "\n"
     ]
    }
   ],
   "execution_count": 6
  },
  {
   "metadata": {
    "ExecuteTime": {
     "end_time": "2024-08-09T20:54:26.045237Z",
     "start_time": "2024-08-09T20:54:26.021673Z"
    }
   },
   "cell_type": "code",
   "source": "type(X_train)",
   "id": "f8f7d524ff15627d",
   "outputs": [
    {
     "data": {
      "text/plain": [
       "numpy.ndarray"
      ]
     },
     "execution_count": 9,
     "metadata": {},
     "output_type": "execute_result"
    }
   ],
   "execution_count": 9
  },
  {
   "metadata": {
    "ExecuteTime": {
     "end_time": "2024-08-09T20:55:07.294575Z",
     "start_time": "2024-08-09T20:55:07.206220Z"
    }
   },
   "cell_type": "code",
   "source": [
    "data_loader = DataLoader(dataset = list(zip(X_train, y_train)),batch_size = 16, shuffle = True)\n",
    "data, labels = next(iter(data_loader))\n",
    "\n",
    "print(\"The shape of singular batch size of training : {}\".format(data.size()))\n",
    "print(\"The shape of singular batch size of testing  : {}\".format(labels.size()))\n",
    "     "
   ],
   "id": "3c9d6e2007c511bd",
   "outputs": [
    {
     "name": "stdout",
     "output_type": "stream",
     "text": [
      "The shape of singular batch size of training # torch.Size([16, 13])\n",
      "The shape of singular batch size of testing  # torch.Size([16])\n"
     ]
    }
   ],
   "execution_count": 10
  },
  {
   "metadata": {
    "ExecuteTime": {
     "end_time": "2024-08-09T21:10:46.271265Z",
     "start_time": "2024-08-09T21:10:46.223930Z"
    }
   },
   "cell_type": "code",
   "source": [
    "###ANN building\n",
    "\n",
    "class StudentClassifier(nn.Module):\n",
    "    def __init__(self):\n",
    "        super(StudentClassifier, self).__init__()\n",
    "        #create 1st hidden layer\n",
    "        self.hidden_layer_1 = nn.Linear(in_features=13, out_features=128, bias=True)\n",
    "        self.activation_1 = nn.ReLU()\n",
    "        #create 2nd hidden layer\n",
    "        self.hidden_layer_2 = nn.Linear(in_features=128, out_features=64, bias=True)\n",
    "        self.activation_2 = nn.ReLU()\n",
    "        #create output layer\n",
    "        self.output_layer = nn.Linear(in_features=64, out_features=1, bias=True)\n",
    "        self.activation_output = nn.Sigmoid()\n",
    "        \n",
    "    def forward(self, x):\n",
    "        #activation(W^T + B); x = training dataset\n",
    "        X = self.hidden_layer_1(x)\n",
    "        X = self.activation_1(X)\n",
    "        X = self.hidden_layer_2(X)\n",
    "        X = self.activation_2(X)\n",
    "        X = self.output_layer(X)\n",
    "        X = self.activation_output(X)\n",
    "        \n",
    "        return X\n",
    "    \n",
    "    \n",
    "model = StudentClassifier()\n",
    "print(model, '\\n\\n\\n')\n",
    "print(model.parameters)"
   ],
   "id": "1ef8d2aacae5bf16",
   "outputs": [
    {
     "name": "stdout",
     "output_type": "stream",
     "text": [
      "StudentClassifier(\n",
      "  (hidden_layer_1): Linear(in_features=13, out_features=128, bias=True)\n",
      "  (activation_1): ReLU()\n",
      "  (hidden_layer_2): Linear(in_features=128, out_features=64, bias=True)\n",
      "  (activation_2): ReLU()\n",
      "  (output_layer): Linear(in_features=64, out_features=1, bias=True)\n",
      "  (activation_output): Sigmoid()\n",
      ") \n",
      "\n",
      "\n",
      "\n",
      "<bound method Module.parameters of StudentClassifier(\n",
      "  (hidden_layer_1): Linear(in_features=13, out_features=128, bias=True)\n",
      "  (activation_1): ReLU()\n",
      "  (hidden_layer_2): Linear(in_features=128, out_features=64, bias=True)\n",
      "  (activation_2): ReLU()\n",
      "  (output_layer): Linear(in_features=64, out_features=1, bias=True)\n",
      "  (activation_output): Sigmoid()\n",
      ")>\n"
     ]
    }
   ],
   "execution_count": 12
  },
  {
   "metadata": {
    "ExecuteTime": {
     "end_time": "2024-08-09T21:15:24.685765Z",
     "start_time": "2024-08-09T21:15:24.623158Z"
    }
   },
   "cell_type": "code",
   "source": [
    "print(model.parameters(),'\\n\\n\\n')\n",
    "summary(model, X_train.shape)"
   ],
   "id": "d8b6cba4a45e7606",
   "outputs": [
    {
     "name": "stdout",
     "output_type": "stream",
     "text": [
      "<generator object Module.parameters at 0x0000013ADBCE3220> \n",
      "\n",
      "\n",
      "\n",
      "----------------------------------------------------------------\n",
      "        Layer (type)               Output Shape         Param #\n",
      "================================================================\n",
      "            Linear-1            [-1, 1913, 128]           1,792\n",
      "              ReLU-2            [-1, 1913, 128]               0\n",
      "            Linear-3             [-1, 1913, 64]           8,256\n",
      "              ReLU-4             [-1, 1913, 64]               0\n",
      "            Linear-5              [-1, 1913, 1]              65\n",
      "           Sigmoid-6              [-1, 1913, 1]               0\n",
      "================================================================\n",
      "Total params: 10,113\n",
      "Trainable params: 10,113\n",
      "Non-trainable params: 0\n",
      "----------------------------------------------------------------\n",
      "Input size (MB): 0.09\n",
      "Forward/backward pass size (MB): 5.63\n",
      "Params size (MB): 0.04\n",
      "Estimated Total Size (MB): 5.77\n",
      "----------------------------------------------------------------\n"
     ]
    }
   ],
   "execution_count": 17
  }
 ],
 "metadata": {
  "kernelspec": {
   "display_name": "Python 3",
   "language": "python",
   "name": "python3"
  },
  "language_info": {
   "codemirror_mode": {
    "name": "ipython",
    "version": 2
   },
   "file_extension": ".py",
   "mimetype": "text/x-python",
   "name": "python",
   "nbconvert_exporter": "python",
   "pygments_lexer": "ipython2",
   "version": "2.7.6"
  }
 },
 "nbformat": 4,
 "nbformat_minor": 5
}
