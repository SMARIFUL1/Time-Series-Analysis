{
 "cells": [
  {
   "cell_type": "code",
   "id": "initial_id",
   "metadata": {
    "collapsed": true,
    "ExecuteTime": {
     "end_time": "2024-08-01T20:10:13.563845Z",
     "start_time": "2024-08-01T20:10:07.926726Z"
    }
   },
   "source": [
    "import numpy as np\n",
    "import torch\n",
    "import warnings\n",
    "warnings.filterwarnings(\"ignore\")"
   ],
   "outputs": [],
   "execution_count": 1
  },
  {
   "metadata": {},
   "cell_type": "markdown",
   "source": "#### randn :",
   "id": "3e66951d0c276c61"
  },
  {
   "metadata": {
    "ExecuteTime": {
     "end_time": "2024-08-01T20:10:13.691211Z",
     "start_time": "2024-08-01T20:10:13.563845Z"
    }
   },
   "cell_type": "code",
   "source": [
    "#using rand = a tensor filled with random numbers from a uniform distribution on the interval [0,1)\n",
    "print(torch.rand(2, 4), '\\n')\n",
    "print(torch.rand(3, 4, 4), '\\n')\n",
    "print(torch.rand(2, 3, 4, 2), '\\n')\n",
    "print(torch.rand(2, 2).ndim, '\\n')\n",
    "print(torch.rand(3, 4, 4).ndim, '\\n')\n",
    "print(torch.rand(2, 3, 4, 2).ndim, '\\n')\n",
    "print(type(torch.rand(2, 4)))"
   ],
   "id": "3d59d60ffe6420ae",
   "outputs": [
    {
     "name": "stdout",
     "output_type": "stream",
     "text": [
      "tensor([[0.9603, 0.7293, 0.7175, 0.7876],\n",
      "        [0.4966, 0.1068, 0.3441, 0.2281]]) \n",
      "\n",
      "tensor([[[0.2917, 0.2003, 0.1385, 0.6404],\n",
      "         [0.4497, 0.0209, 0.7296, 0.5024],\n",
      "         [0.3015, 0.3328, 0.2406, 0.3160],\n",
      "         [0.2955, 0.8884, 0.1081, 0.9027]],\n",
      "\n",
      "        [[0.6526, 0.8514, 0.1534, 0.9087],\n",
      "         [0.3857, 0.7685, 0.1217, 0.9739],\n",
      "         [0.1558, 0.1783, 0.5755, 0.3042],\n",
      "         [0.7331, 0.5197, 0.7407, 0.4475]],\n",
      "\n",
      "        [[0.0120, 0.7631, 0.2962, 0.0618],\n",
      "         [0.2830, 0.4649, 0.2571, 0.1484],\n",
      "         [0.3234, 0.9269, 0.3266, 0.1855],\n",
      "         [0.5627, 0.9580, 0.8475, 0.2891]]]) \n",
      "\n",
      "tensor([[[[0.1799, 0.0228],\n",
      "          [0.4573, 0.8966],\n",
      "          [0.6424, 0.1906],\n",
      "          [0.7137, 0.5785]],\n",
      "\n",
      "         [[0.0602, 0.3249],\n",
      "          [0.2669, 0.6232],\n",
      "          [0.3630, 0.4187],\n",
      "          [0.2531, 0.1513]],\n",
      "\n",
      "         [[0.7481, 0.3973],\n",
      "          [0.8598, 0.4958],\n",
      "          [0.5867, 0.8183],\n",
      "          [0.7864, 0.2090]]],\n",
      "\n",
      "\n",
      "        [[[0.4675, 0.2429],\n",
      "          [0.1646, 0.0644],\n",
      "          [0.4751, 0.6617],\n",
      "          [0.9863, 0.1001]],\n",
      "\n",
      "         [[0.6281, 0.1577],\n",
      "          [0.8501, 0.0899],\n",
      "          [0.2804, 0.3811],\n",
      "          [0.6388, 0.3219]],\n",
      "\n",
      "         [[0.9932, 0.9626],\n",
      "          [0.8098, 0.7554],\n",
      "          [0.5202, 0.2926],\n",
      "          [0.2987, 0.4227]]]]) \n",
      "\n",
      "2 \n",
      "\n",
      "3 \n",
      "\n",
      "4 \n",
      "\n",
      "<class 'torch.Tensor'>\n"
     ]
    }
   ],
   "execution_count": 2
  },
  {
   "metadata": {},
   "cell_type": "markdown",
   "source": "#### randn :",
   "id": "815ae770cce0f0fa"
  },
  {
   "metadata": {
    "ExecuteTime": {
     "end_time": "2024-08-01T20:10:13.722900Z",
     "start_time": "2024-08-01T20:10:13.691211Z"
    }
   },
   "cell_type": "code",
   "source": [
    "#using randn = a tensor filled with random numbers from a normal distribution with mean 0 and variance 1 (also called the standard normal distribution).\n",
    "print(torch.randn(2, 4), '\\n')\n",
    "print(torch.randn(3, 4, 4), '\\n')\n",
    "print(torch.randn(2, 3, 4, 2), '\\n')\n",
    "print(torch.randn(2, 2).ndim, '\\n')\n",
    "print(torch.randn(3, 4, 4).ndim, '\\n')\n",
    "print(torch.randn(2, 3, 4, 2).ndim, '\\n')\n",
    "print(type(torch.randn(2, 4)))\n",
    "print(torch.randn(2,2, dtype=torch.float32))"
   ],
   "id": "e3ab3fb319d33f06",
   "outputs": [
    {
     "name": "stdout",
     "output_type": "stream",
     "text": [
      "tensor([[ 1.3905,  0.3913, -0.5759, -0.8838],\n",
      "        [-0.0876, -0.9079,  1.6618, -1.0972]]) \n",
      "\n",
      "tensor([[[ 1.1695, -1.2646,  0.9997,  0.1969],\n",
      "         [ 0.1920,  1.0070,  1.5556,  0.3725],\n",
      "         [ 0.2223,  0.1780, -0.5405, -0.5482],\n",
      "         [ 0.9280, -0.4204, -0.4194, -1.5897]],\n",
      "\n",
      "        [[-2.2447, -0.2657,  0.1960,  0.6324],\n",
      "         [-0.2677,  0.0535,  1.6735,  0.1190],\n",
      "         [ 0.0138,  0.4975, -0.9782,  1.7645],\n",
      "         [-0.9788, -0.5776,  1.4876, -0.4119]],\n",
      "\n",
      "        [[-0.5925, -1.7759, -0.0908, -0.4957],\n",
      "         [-0.5309, -0.4317, -0.6975, -1.6743],\n",
      "         [-0.6322,  0.5757, -0.1164,  1.0384],\n",
      "         [ 1.1088, -2.7816, -1.9721,  1.0592]]]) \n",
      "\n",
      "tensor([[[[-0.5785, -0.8998],\n",
      "          [ 0.4896, -1.9025],\n",
      "          [ 0.4977,  0.2620],\n",
      "          [-0.4636,  0.8803]],\n",
      "\n",
      "         [[-0.3128,  1.0509],\n",
      "          [ 0.7030, -0.7921],\n",
      "          [-0.5532,  0.2298],\n",
      "          [ 1.3068,  0.3100]],\n",
      "\n",
      "         [[ 0.7849,  0.9119],\n",
      "          [ 1.1339, -1.3573],\n",
      "          [-0.0907, -0.2792],\n",
      "          [ 2.3999,  0.8571]]],\n",
      "\n",
      "\n",
      "        [[[ 0.7512, -0.3674],\n",
      "          [-0.1165,  0.7917],\n",
      "          [ 0.4305,  0.8335],\n",
      "          [ 0.1247,  0.7755]],\n",
      "\n",
      "         [[-0.0276, -0.2554],\n",
      "          [-0.8980,  0.4143],\n",
      "          [-0.9989,  1.8452],\n",
      "          [ 0.0422,  0.5217]],\n",
      "\n",
      "         [[-0.2215, -0.2206],\n",
      "          [ 1.5069, -0.1068],\n",
      "          [-1.3615,  0.5037],\n",
      "          [ 0.0803, -0.0373]]]]) \n",
      "\n",
      "2 \n",
      "\n",
      "3 \n",
      "\n",
      "4 \n",
      "\n",
      "<class 'torch.Tensor'>\n",
      "tensor([[ 0.7851,  0.5438],\n",
      "        [-0.2803,  0.2337]])\n"
     ]
    }
   ],
   "execution_count": 3
  },
  {
   "metadata": {},
   "cell_type": "markdown",
   "source": "#### randint :",
   "id": "ecedcbbd3d0d3ffe"
  },
  {
   "metadata": {
    "ExecuteTime": {
     "end_time": "2024-08-01T20:10:13.755032Z",
     "start_time": "2024-08-01T20:10:13.722900Z"
    }
   },
   "cell_type": "code",
   "source": [
    "print(torch.randint(0, 10, (3, 4)), '\\n')\n",
    "print(torch.randint(low = 1, high = 10, size = (3, 4, 3)), '\\n')\n",
    "print(torch.randint(low = 1, high = 10, size = (3, 4, 3)).ndim, '\\n')"
   ],
   "id": "7d8ec1d830d783b7",
   "outputs": [
    {
     "name": "stdout",
     "output_type": "stream",
     "text": [
      "tensor([[7, 6, 8, 7],\n",
      "        [7, 8, 1, 8],\n",
      "        [0, 0, 0, 4]]) \n",
      "\n",
      "tensor([[[6, 1, 6],\n",
      "         [5, 4, 6],\n",
      "         [5, 6, 1],\n",
      "         [5, 6, 1]],\n",
      "\n",
      "        [[9, 5, 4],\n",
      "         [2, 9, 1],\n",
      "         [2, 6, 3],\n",
      "         [7, 4, 9]],\n",
      "\n",
      "        [[9, 1, 2],\n",
      "         [2, 2, 5],\n",
      "         [1, 4, 8],\n",
      "         [4, 7, 3]]]) \n",
      "\n",
      "3 \n",
      "\n"
     ]
    }
   ],
   "execution_count": 4
  },
  {
   "metadata": {},
   "cell_type": "markdown",
   "source": "#### datatype :",
   "id": "6782c2d7464dfc52"
  },
  {
   "metadata": {
    "ExecuteTime": {
     "end_time": "2024-08-01T20:10:13.786297Z",
     "start_time": "2024-08-01T20:10:13.755032Z"
    }
   },
   "cell_type": "code",
   "source": [
    "a = torch.tensor([0.123456789, 2, 3], dtype= torch.float16)\n",
    "print('16bit  :' , a[0])\n",
    "\n",
    "b = torch.tensor([0.123456789, 2, 3], dtype= torch.float32)\n",
    "print('32bit  :' , b[0])\n",
    "\n",
    "c = torch.tensor([0.123456789, 2, 3], dtype= torch.float64)\n",
    "print('64bit  :' , c[0])\n",
    "\n",
    "print('Memory usage of 16-bit float tensor:', a.element_size() * a.nelement())\n",
    "print('Memory usage of 32-bit float tensor:', b.element_size() * b.nelement())\n",
    "print('Memory usage of 64-bit float tensor:', c.element_size() * c.nelement())\n",
    "#the precision will be higher as the float types increased but computation will be slow"
   ],
   "id": "62b16b351611fc92",
   "outputs": [
    {
     "name": "stdout",
     "output_type": "stream",
     "text": [
      "16bit  : tensor(0.1235, dtype=torch.float16)\n",
      "32bit  : tensor(0.1235)\n",
      "64bit  : tensor(0.1235, dtype=torch.float64)\n",
      "Memory usage of 16-bit float tensor: 6\n",
      "Memory usage of 32-bit float tensor: 12\n",
      "Memory usage of 64-bit float tensor: 24\n"
     ]
    }
   ],
   "execution_count": 5
  },
  {
   "metadata": {
    "ExecuteTime": {
     "end_time": "2024-08-01T20:10:13.818047Z",
     "start_time": "2024-08-01T20:10:13.786297Z"
    }
   },
   "cell_type": "code",
   "source": [
    "#create all zeros and ones\n",
    "\n",
    "print(torch.zeros(3, 3), '\\n')\n",
    "print(torch.zeros(3, 3, dtype=torch.int), '\\n') #change datatype\n",
    "\n",
    "print(torch.ones(3, 3), '\\n')\n",
    "print(torch.ones(3, 3, dtype=torch.int), '\\n')"
   ],
   "id": "f002ddc54cbcb834",
   "outputs": [
    {
     "name": "stdout",
     "output_type": "stream",
     "text": [
      "tensor([[0., 0., 0.],\n",
      "        [0., 0., 0.],\n",
      "        [0., 0., 0.]]) \n",
      "\n",
      "tensor([[0, 0, 0],\n",
      "        [0, 0, 0],\n",
      "        [0, 0, 0]], dtype=torch.int32) \n",
      "\n",
      "tensor([[1., 1., 1.],\n",
      "        [1., 1., 1.],\n",
      "        [1., 1., 1.]]) \n",
      "\n",
      "tensor([[1, 1, 1],\n",
      "        [1, 1, 1],\n",
      "        [1, 1, 1]], dtype=torch.int32) \n",
      "\n"
     ]
    }
   ],
   "execution_count": 6
  },
  {
   "metadata": {},
   "cell_type": "markdown",
   "source": "#### concat :",
   "id": "e010d2e0fb63d7f"
  },
  {
   "metadata": {
    "ExecuteTime": {
     "end_time": "2024-08-01T20:10:13.865819Z",
     "start_time": "2024-08-01T20:10:13.822018Z"
    }
   },
   "cell_type": "code",
   "source": [
    "#Concat #axis\n",
    "print(torch.randint(1, 5, (2,4)))\n",
    "print(torch.randint(1, 5, (4,4)))\n",
    "\n",
    "print(\"cancatination on column-wise :\", '\\n')\n",
    "tensor1 = torch.randint(1, 4, (2, 2))\n",
    "tensor2 = torch.randint(4, 6, (2, 4))\n",
    "concatenated_tensor = torch.concat((tensor1, tensor2), axis=1)\n",
    "print(tensor1, '\\n')\n",
    "print(tensor2, '\\n')\n",
    "print(concatenated_tensor, '\\n')\n",
    "print(concatenated_tensor.shape, '\\n')\n",
    "\n",
    "#cat #dim\n",
    "print(\"cancatination on row-wise :\", '\\n')\n",
    "tensor11 = torch.randint(1, 4, (3, 4))\n",
    "tensor12 = torch.randint(4, 6, (2, 4))\n",
    "concatenated_tensor2 = torch.cat((tensor11, tensor12), dim=0)\n",
    "print(tensor11, '\\n')\n",
    "print(tensor12, '\\n')\n",
    "print(concatenated_tensor2, '\\n')\n",
    "print(concatenated_tensor2.shape, '\\n')\n",
    "\n",
    "#can be used dim instead of a"
   ],
   "id": "b0a8b4dc3103e4e0",
   "outputs": [
    {
     "name": "stdout",
     "output_type": "stream",
     "text": [
      "tensor([[1, 1, 1, 1],\n",
      "        [2, 1, 3, 3]])\n",
      "tensor([[1, 4, 3, 4],\n",
      "        [1, 1, 2, 4],\n",
      "        [3, 1, 2, 2],\n",
      "        [2, 2, 2, 4]])\n",
      "cancatination on column-wise : \n",
      "\n",
      "tensor([[2, 3],\n",
      "        [2, 2]]) \n",
      "\n",
      "tensor([[5, 4, 4, 4],\n",
      "        [5, 4, 5, 4]]) \n",
      "\n",
      "tensor([[2, 3, 5, 4, 4, 4],\n",
      "        [2, 2, 5, 4, 5, 4]]) \n",
      "\n",
      "torch.Size([2, 6]) \n",
      "\n",
      "cancatination on row-wise : \n",
      "\n",
      "tensor([[1, 2, 2, 1],\n",
      "        [1, 1, 2, 1],\n",
      "        [3, 2, 1, 1]]) \n",
      "\n",
      "tensor([[5, 4, 4, 4],\n",
      "        [4, 4, 5, 5]]) \n",
      "\n",
      "tensor([[1, 2, 2, 1],\n",
      "        [1, 1, 2, 1],\n",
      "        [3, 2, 1, 1],\n",
      "        [5, 4, 4, 4],\n",
      "        [4, 4, 5, 5]]) \n",
      "\n",
      "torch.Size([5, 4]) \n",
      "\n"
     ]
    }
   ],
   "execution_count": 7
  },
  {
   "metadata": {
    "ExecuteTime": {
     "end_time": "2024-08-01T20:10:13.897390Z",
     "start_time": "2024-08-01T20:10:13.867235Z"
    }
   },
   "cell_type": "code",
   "source": [
    "print(\"pointwise addition :\", '\\n')\n",
    "tensor1 = torch.randint(1, 4, (2, 4))\n",
    "tensor2 = torch.randint(4, 6, (2, 4))\n",
    "concatenated_tensor = torch.tensor((tensor1+tensor2))\n",
    "print(tensor1, '\\n')\n",
    "print(tensor2, '\\n')\n",
    "print(concatenated_tensor, '\\n')\n",
    "print(concatenated_tensor.shape, '\\n')"
   ],
   "id": "2dc638ab7db2bed3",
   "outputs": [
    {
     "name": "stdout",
     "output_type": "stream",
     "text": [
      "pointwise addition : \n",
      "\n",
      "tensor([[3, 2, 2, 3],\n",
      "        [1, 3, 1, 1]]) \n",
      "\n",
      "tensor([[4, 5, 4, 5],\n",
      "        [4, 4, 4, 5]]) \n",
      "\n",
      "tensor([[7, 7, 6, 8],\n",
      "        [5, 7, 5, 6]]) \n",
      "\n",
      "torch.Size([2, 4]) \n",
      "\n"
     ]
    }
   ],
   "execution_count": 8
  },
  {
   "metadata": {
    "ExecuteTime": {
     "end_time": "2024-08-01T20:10:13.928811Z",
     "start_time": "2024-08-01T20:10:13.898403Z"
    }
   },
   "cell_type": "code",
   "source": [
    "#reshaping\n",
    "a = torch.rand(4, 3, dtype=torch.float16)\n",
    "print(a, '\\n')\n",
    "\n",
    "#changing the shape from 4 rows 2 & 3 respectively where -1 helps us to determine the column automatically\n",
    "print(a.reshape(2, -1), '\\n')\n",
    "print(a.view(3, -1))\n",
    "#can use reshape and view"
   ],
   "id": "d950f68fc90377",
   "outputs": [
    {
     "name": "stdout",
     "output_type": "stream",
     "text": [
      "tensor([[0.8750, 0.3838, 0.1343],\n",
      "        [0.6216, 0.7573, 0.3745],\n",
      "        [0.7422, 0.7285, 0.7798],\n",
      "        [0.7998, 0.7109, 0.3657]], dtype=torch.float16) \n",
      "\n",
      "tensor([[0.8750, 0.3838, 0.1343, 0.6216, 0.7573, 0.3745],\n",
      "        [0.7422, 0.7285, 0.7798, 0.7998, 0.7109, 0.3657]], dtype=torch.float16) \n",
      "\n",
      "tensor([[0.8750, 0.3838, 0.1343, 0.6216],\n",
      "        [0.7573, 0.3745, 0.7422, 0.7285],\n",
      "        [0.7798, 0.7998, 0.7109, 0.3657]], dtype=torch.float16)\n"
     ]
    }
   ],
   "execution_count": 9
  },
  {
   "metadata": {
    "ExecuteTime": {
     "end_time": "2024-08-01T20:10:57.550180Z",
     "start_time": "2024-08-01T20:10:57.518483Z"
    }
   },
   "cell_type": "code",
   "source": [
    "#dimension expand\n",
    "\n",
    "x= torch.randint(1, 9, (3, 4))\n",
    "print(x, '\\n')\n",
    "print('dimension of x is :', x.ndim, '\\n')\n",
    "print('shape of x is :', x.shape, '\\n')\n",
    "\n",
    "y=torch.unsqueeze(x, dim=1)\n",
    "print(y, '\\n')\n",
    "print('shape of y is :', y.shape, '\\n')\n",
    "\n",
    "z=torch.unsqueeze(x, dim=0)\n",
    "print(z, '\\n')\n",
    "print('shape of z is :', z.shape, '\\n')"
   ],
   "id": "cd463552b5ea7a80",
   "outputs": [
    {
     "name": "stdout",
     "output_type": "stream",
     "text": [
      "tensor([[6, 8, 2, 2],\n",
      "        [6, 6, 1, 8],\n",
      "        [1, 8, 8, 2]]) \n",
      "\n",
      "dimension of x is : 2 \n",
      "\n",
      "shape of x is : torch.Size([3, 4]) \n",
      "\n",
      "tensor([[[6, 8, 2, 2]],\n",
      "\n",
      "        [[6, 6, 1, 8]],\n",
      "\n",
      "        [[1, 8, 8, 2]]]) \n",
      "\n",
      "shape of y is : torch.Size([3, 1, 4]) \n",
      "\n",
      "tensor([[[6, 8, 2, 2],\n",
      "         [6, 6, 1, 8],\n",
      "         [1, 8, 8, 2]]]) \n",
      "\n",
      "shape of z is : torch.Size([1, 3, 4]) \n",
      "\n"
     ]
    }
   ],
   "execution_count": 10
  },
  {
   "metadata": {
    "ExecuteTime": {
     "end_time": "2024-08-01T20:11:09.595027Z",
     "start_time": "2024-08-01T20:11:09.563198Z"
    }
   },
   "cell_type": "code",
   "source": [
    "#value findings\n",
    "\n",
    "x= torch.randint(1, 9, (3, 4))\n",
    "print(x, '\\n')\n",
    "limit = 3\n",
    "print(torch.where(x > limit, True, False), '\\n')\n",
    "print(x[torch.where(x > limit, True, False)])"
   ],
   "id": "e0e73a23aadd99e8",
   "outputs": [
    {
     "name": "stdout",
     "output_type": "stream",
     "text": [
      "tensor([[5, 6, 6, 3],\n",
      "        [2, 8, 7, 1],\n",
      "        [2, 8, 5, 2]]) \n",
      "\n",
      "tensor([[ True,  True,  True, False],\n",
      "        [False,  True,  True, False],\n",
      "        [False,  True,  True, False]]) \n",
      "\n",
      "tensor([5, 6, 6, 8, 7, 8, 5])\n"
     ]
    }
   ],
   "execution_count": 11
  },
  {
   "metadata": {
    "ExecuteTime": {
     "end_time": "2024-08-01T20:11:21.001856Z",
     "start_time": "2024-08-01T20:11:20.900311Z"
    }
   },
   "cell_type": "code",
   "source": [
    "###SPLIT\n",
    "\n",
    "#hsplit works column-wise\n",
    "torch.manual_seed(11)\n",
    "x= torch.rand(1, 6)\n",
    "print(x, '\\n')\n",
    "\n",
    "print(torch.hsplit(x, 3), '\\n')\n",
    "print(torch.hsplit(x, 2), '\\n')\n",
    "print(torch.hsplit(x, 6), '\\n')\n",
    "\n",
    "#vsplit works row-wise\n",
    "y= torch.rand(3, 3)\n",
    "print(y, '\\n')\n",
    "print(torch.vsplit(y, 3), '\\n')"
   ],
   "id": "970b0117541a513b",
   "outputs": [
    {
     "name": "stdout",
     "output_type": "stream",
     "text": [
      "tensor([[0.1490, 0.4866, 0.9857, 0.1684, 0.5839, 0.6936]]) \n",
      "\n",
      "(tensor([[0.1490, 0.4866]]), tensor([[0.9857, 0.1684]]), tensor([[0.5839, 0.6936]])) \n",
      "\n",
      "(tensor([[0.1490, 0.4866, 0.9857]]), tensor([[0.1684, 0.5839, 0.6936]])) \n",
      "\n",
      "(tensor([[0.1490]]), tensor([[0.4866]]), tensor([[0.9857]]), tensor([[0.1684]]), tensor([[0.5839]]), tensor([[0.6936]])) \n",
      "\n",
      "tensor([[0.5831, 0.1284, 0.5721],\n",
      "        [0.9248, 0.2693, 0.7825],\n",
      "        [0.2719, 0.4632, 0.7671]]) \n",
      "\n",
      "(tensor([[0.5831, 0.1284, 0.5721]]), tensor([[0.9248, 0.2693, 0.7825]]), tensor([[0.2719, 0.4632, 0.7671]])) \n",
      "\n"
     ]
    }
   ],
   "execution_count": 12
  },
  {
   "metadata": {
    "ExecuteTime": {
     "end_time": "2024-08-01T20:11:31.527029Z",
     "start_time": "2024-08-01T20:11:31.495610Z"
    }
   },
   "cell_type": "code",
   "source": [
    "#Transposing : row to column and vice-versa\n",
    "\n",
    "y= torch.randint(1, 4, (1,3))\n",
    "print(y, '\\n')\n",
    "print(y.T, '\\n')"
   ],
   "id": "89d1a7c0f61f07dd",
   "outputs": [
    {
     "name": "stdout",
     "output_type": "stream",
     "text": [
      "tensor([[1, 3, 1]]) \n",
      "\n",
      "tensor([[1],\n",
      "        [3],\n",
      "        [1]]) \n",
      "\n"
     ]
    }
   ],
   "execution_count": 13
  },
  {
   "metadata": {
    "ExecuteTime": {
     "end_time": "2024-08-01T20:11:39.113461Z",
     "start_time": "2024-08-01T20:11:39.066202Z"
    }
   },
   "cell_type": "code",
   "source": [
    "#Sortung\n",
    "\n",
    "y= torch.randint(1, 4, (1,3)).sort(descending = False)\n",
    "print(y, '\\n')\n",
    "\n",
    "x= torch.randint(1, 4, (2,3)).sort(descending = True)\n",
    "print(x, '\\n')"
   ],
   "id": "451f3b43d3b9dfd0",
   "outputs": [
    {
     "name": "stdout",
     "output_type": "stream",
     "text": [
      "torch.return_types.sort(\n",
      "values=tensor([[1, 2, 2]]),\n",
      "indices=tensor([[2, 0, 1]])) \n",
      "\n",
      "torch.return_types.sort(\n",
      "values=tensor([[3, 2, 2],\n",
      "        [2, 2, 1]]),\n",
      "indices=tensor([[1, 0, 2],\n",
      "        [1, 2, 0]])) \n",
      "\n"
     ]
    }
   ],
   "execution_count": 14
  },
  {
   "metadata": {
    "ExecuteTime": {
     "end_time": "2024-08-01T20:11:50.384678Z",
     "start_time": "2024-08-01T20:11:50.337299Z"
    }
   },
   "cell_type": "code",
   "source": [
    "#ADDITION\n",
    "x = torch.randn(3, 2)\n",
    "y = torch.randn(3, 2)\n",
    "print(x + y, '\\n\\n')\n",
    "#can use this one also for elementwise addition\n",
    "print(torch.add(x, y), '\\n')\n",
    "\n",
    "#SUBTRACTION\n",
    "print(x-y, '\\n\\n')\n",
    "print(torch.sub(x, y), '\\n')\n",
    "\n",
    "#MULTIFICATION\n",
    "print(x*y, '\\n\\n')\n",
    "print(torch.mul(x, y), '\\n')\n",
    "\n",
    "#divition\n",
    "print(x/y, '\\n\\n')\n",
    "print(torch.div(x, y))"
   ],
   "id": "574afceaf112e6d8",
   "outputs": [
    {
     "name": "stdout",
     "output_type": "stream",
     "text": [
      "tensor([[-2.0150, -0.1333],\n",
      "        [-1.6338,  1.1260],\n",
      "        [-0.5514, -1.8728]]) \n",
      "\n",
      "\n",
      "tensor([[-2.0150, -0.1333],\n",
      "        [-1.6338,  1.1260],\n",
      "        [-0.5514, -1.8728]]) \n",
      "\n",
      "tensor([[ 1.4572, -0.0087],\n",
      "        [ 0.6494,  1.8418],\n",
      "        [-1.4104,  0.2495]]) \n",
      "\n",
      "\n",
      "tensor([[ 1.4572, -0.0087],\n",
      "        [ 0.6494,  1.8418],\n",
      "        [-1.4104,  0.2495]]) \n",
      "\n",
      "tensor([[ 0.4842,  0.0044],\n",
      "        [ 0.5619, -0.5311],\n",
      "        [-0.4213,  0.8613]]) \n",
      "\n",
      "\n",
      "tensor([[ 0.4842,  0.0044],\n",
      "        [ 0.5619, -0.5311],\n",
      "        [-0.4213,  0.8613]]) \n",
      "\n",
      "tensor([[ 0.1607,  1.1396],\n",
      "        [ 0.4312, -4.1461],\n",
      "        [-2.2839,  0.7649]]) \n",
      "\n",
      "\n",
      "tensor([[ 0.1607,  1.1396],\n",
      "        [ 0.4312, -4.1461],\n",
      "        [-2.2839,  0.7649]])\n"
     ]
    }
   ],
   "execution_count": 15
  },
  {
   "metadata": {
    "ExecuteTime": {
     "end_time": "2024-08-01T20:12:00.902305Z",
     "start_time": "2024-08-01T20:12:00.807633Z"
    }
   },
   "cell_type": "code",
   "source": [
    "#Mean,SQRT >>>>\n",
    "\n",
    "x = torch.rand(2, 3)\n",
    "y = torch.rand(2, 3)\n",
    "print(x, '\\n')\n",
    "print(y, '\\n')\n",
    "print(torch.mean(x), '\\n\\n')\n",
    "print(torch.median(x), '\\n\\n')\n",
    "print(torch.std(x), '\\n\\n')\n",
    "print(torch.sqrt(x), '\\n\\n')\n",
    "print(torch.mode(x), '\\n\\n')"
   ],
   "id": "4ffb1124ed113e4b",
   "outputs": [
    {
     "name": "stdout",
     "output_type": "stream",
     "text": [
      "tensor([[0.7171, 0.4578, 0.3566],\n",
      "        [0.4831, 0.6752, 0.2525]]) \n",
      "\n",
      "tensor([[0.5272, 0.8281, 0.4956],\n",
      "        [0.8292, 0.0482, 0.0826]]) \n",
      "\n",
      "tensor(0.4904) \n",
      "\n",
      "\n",
      "tensor(0.4578) \n",
      "\n",
      "\n",
      "tensor(0.1795) \n",
      "\n",
      "\n",
      "tensor([[0.8468, 0.6766, 0.5972],\n",
      "        [0.6951, 0.8217, 0.5025]]) \n",
      "\n",
      "\n",
      "torch.return_types.mode(\n",
      "values=tensor([0.3566, 0.2525]),\n",
      "indices=tensor([2, 2])) \n",
      "\n",
      "\n"
     ]
    }
   ],
   "execution_count": 16
  },
  {
   "metadata": {
    "ExecuteTime": {
     "end_time": "2024-08-01T20:12:12.475370Z",
     "start_time": "2024-08-01T20:12:12.443705Z"
    }
   },
   "cell_type": "code",
   "source": [
    "#Convertion\n",
    "\n",
    "x = torch.rand(3, 2)\n",
    "print(x, '\\n')\n",
    "\n",
    "y = x.numpy()\n",
    "z = np.random.rand(3, 2)\n",
    "\n",
    "print(z, '\\n')\n",
    "print(torch.from_numpy(z))"
   ],
   "id": "83bd0eb655f22d52",
   "outputs": [
    {
     "name": "stdout",
     "output_type": "stream",
     "text": [
      "tensor([[0.2730, 0.7694],\n",
      "        [0.8017, 0.1284],\n",
      "        [0.6878, 0.4103]]) \n",
      "\n",
      "[[0.04713878 0.60683687]\n",
      " [0.61603407 0.63882602]\n",
      " [0.19001695 0.16388603]] \n",
      "\n",
      "tensor([[0.0471, 0.6068],\n",
      "        [0.6160, 0.6388],\n",
      "        [0.1900, 0.1639]], dtype=torch.float64)\n"
     ]
    }
   ],
   "execution_count": 17
  },
  {
   "metadata": {},
   "cell_type": "code",
   "outputs": [],
   "execution_count": null,
   "source": "",
   "id": "2ff6a35d5499a0db"
  }
 ],
 "metadata": {
  "kernelspec": {
   "display_name": "Python 3",
   "language": "python",
   "name": "python3"
  },
  "language_info": {
   "codemirror_mode": {
    "name": "ipython",
    "version": 2
   },
   "file_extension": ".py",
   "mimetype": "text/x-python",
   "name": "python",
   "nbconvert_exporter": "python",
   "pygments_lexer": "ipython2",
   "version": "2.7.6"
  }
 },
 "nbformat": 4,
 "nbformat_minor": 5
}
