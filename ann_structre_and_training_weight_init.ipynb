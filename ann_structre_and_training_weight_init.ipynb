{
 "cells": [
  {
   "cell_type": "code",
   "id": "initial_id",
   "metadata": {
    "collapsed": true,
    "ExecuteTime": {
     "end_time": "2024-08-11T21:33:57.609181Z",
     "start_time": "2024-08-11T21:33:40.452300Z"
    }
   },
   "source": [
    "import numpy as np\n",
    "import pandas as pd\n",
    "from sklearn.model_selection import train_test_split\n",
    "import torch\n",
    "import torch.nn as nn\n",
    "from torch.utils.data import Dataset, DataLoader, TensorDataset\n",
    "import torch.optim as optim\n",
    "from torchsummary import summary\n",
    "import warnings\n",
    "warnings.filterwarnings(\"ignore\")"
   ],
   "outputs": [],
   "execution_count": 1
  },
  {
   "metadata": {
    "ExecuteTime": {
     "end_time": "2024-08-11T21:33:57.752138Z",
     "start_time": "2024-08-11T21:33:57.610247Z"
    }
   },
   "cell_type": "code",
   "source": [
    "df = pd.read_csv(\"D:\\data\\Student_performance_data _.csv\")\n",
    "df.sample(5)"
   ],
   "id": "5bd0c7dd33734209",
   "outputs": [
    {
     "data": {
      "text/plain": [
       "      StudentID  Age  Gender  Ethnicity  ParentalEducation  StudyTimeWeekly  \\\n",
       "859        1860   17       0          0                  1         1.979372   \n",
       "1366       2367   17       0          0                  2        16.085223   \n",
       "6          1007   15       0          1                  1        15.601680   \n",
       "1586       2587   15       0          0                  2        10.463163   \n",
       "2223       3224   15       0          0                  0         0.451394   \n",
       "\n",
       "      Absences  Tutoring  ParentalSupport  Extracurricular  Sports  Music  \\\n",
       "859          7         1                3                1       0      0   \n",
       "1366        13         0                3                1       0      1   \n",
       "6           10         0                3                0       1      0   \n",
       "1586        27         1                0                1       0      0   \n",
       "2223         9         0                1                0       0      0   \n",
       "\n",
       "      Volunteering       GPA  GradeClass  \n",
       "859              0  2.877854         2.0  \n",
       "1366             0  2.578668         2.0  \n",
       "6                0  2.748237         2.0  \n",
       "1586             0  0.654490         4.0  \n",
       "2223             0  1.756186         4.0  "
      ],
      "text/html": [
       "<div>\n",
       "<style scoped>\n",
       "    .dataframe tbody tr th:only-of-type {\n",
       "        vertical-align: middle;\n",
       "    }\n",
       "\n",
       "    .dataframe tbody tr th {\n",
       "        vertical-align: top;\n",
       "    }\n",
       "\n",
       "    .dataframe thead th {\n",
       "        text-align: right;\n",
       "    }\n",
       "</style>\n",
       "<table border=\"1\" class=\"dataframe\">\n",
       "  <thead>\n",
       "    <tr style=\"text-align: right;\">\n",
       "      <th></th>\n",
       "      <th>StudentID</th>\n",
       "      <th>Age</th>\n",
       "      <th>Gender</th>\n",
       "      <th>Ethnicity</th>\n",
       "      <th>ParentalEducation</th>\n",
       "      <th>StudyTimeWeekly</th>\n",
       "      <th>Absences</th>\n",
       "      <th>Tutoring</th>\n",
       "      <th>ParentalSupport</th>\n",
       "      <th>Extracurricular</th>\n",
       "      <th>Sports</th>\n",
       "      <th>Music</th>\n",
       "      <th>Volunteering</th>\n",
       "      <th>GPA</th>\n",
       "      <th>GradeClass</th>\n",
       "    </tr>\n",
       "  </thead>\n",
       "  <tbody>\n",
       "    <tr>\n",
       "      <th>859</th>\n",
       "      <td>1860</td>\n",
       "      <td>17</td>\n",
       "      <td>0</td>\n",
       "      <td>0</td>\n",
       "      <td>1</td>\n",
       "      <td>1.979372</td>\n",
       "      <td>7</td>\n",
       "      <td>1</td>\n",
       "      <td>3</td>\n",
       "      <td>1</td>\n",
       "      <td>0</td>\n",
       "      <td>0</td>\n",
       "      <td>0</td>\n",
       "      <td>2.877854</td>\n",
       "      <td>2.0</td>\n",
       "    </tr>\n",
       "    <tr>\n",
       "      <th>1366</th>\n",
       "      <td>2367</td>\n",
       "      <td>17</td>\n",
       "      <td>0</td>\n",
       "      <td>0</td>\n",
       "      <td>2</td>\n",
       "      <td>16.085223</td>\n",
       "      <td>13</td>\n",
       "      <td>0</td>\n",
       "      <td>3</td>\n",
       "      <td>1</td>\n",
       "      <td>0</td>\n",
       "      <td>1</td>\n",
       "      <td>0</td>\n",
       "      <td>2.578668</td>\n",
       "      <td>2.0</td>\n",
       "    </tr>\n",
       "    <tr>\n",
       "      <th>6</th>\n",
       "      <td>1007</td>\n",
       "      <td>15</td>\n",
       "      <td>0</td>\n",
       "      <td>1</td>\n",
       "      <td>1</td>\n",
       "      <td>15.601680</td>\n",
       "      <td>10</td>\n",
       "      <td>0</td>\n",
       "      <td>3</td>\n",
       "      <td>0</td>\n",
       "      <td>1</td>\n",
       "      <td>0</td>\n",
       "      <td>0</td>\n",
       "      <td>2.748237</td>\n",
       "      <td>2.0</td>\n",
       "    </tr>\n",
       "    <tr>\n",
       "      <th>1586</th>\n",
       "      <td>2587</td>\n",
       "      <td>15</td>\n",
       "      <td>0</td>\n",
       "      <td>0</td>\n",
       "      <td>2</td>\n",
       "      <td>10.463163</td>\n",
       "      <td>27</td>\n",
       "      <td>1</td>\n",
       "      <td>0</td>\n",
       "      <td>1</td>\n",
       "      <td>0</td>\n",
       "      <td>0</td>\n",
       "      <td>0</td>\n",
       "      <td>0.654490</td>\n",
       "      <td>4.0</td>\n",
       "    </tr>\n",
       "    <tr>\n",
       "      <th>2223</th>\n",
       "      <td>3224</td>\n",
       "      <td>15</td>\n",
       "      <td>0</td>\n",
       "      <td>0</td>\n",
       "      <td>0</td>\n",
       "      <td>0.451394</td>\n",
       "      <td>9</td>\n",
       "      <td>0</td>\n",
       "      <td>1</td>\n",
       "      <td>0</td>\n",
       "      <td>0</td>\n",
       "      <td>0</td>\n",
       "      <td>0</td>\n",
       "      <td>1.756186</td>\n",
       "      <td>4.0</td>\n",
       "    </tr>\n",
       "  </tbody>\n",
       "</table>\n",
       "</div>"
      ]
     },
     "execution_count": 2,
     "metadata": {},
     "output_type": "execute_result"
    }
   ],
   "execution_count": 2
  },
  {
   "metadata": {
    "ExecuteTime": {
     "end_time": "2024-08-11T21:33:57.783659Z",
     "start_time": "2024-08-11T21:33:57.754654Z"
    }
   },
   "cell_type": "code",
   "source": "df.isnull().sum()",
   "id": "a0ba64f8362529ba",
   "outputs": [
    {
     "data": {
      "text/plain": [
       "StudentID            0\n",
       "Age                  0\n",
       "Gender               0\n",
       "Ethnicity            0\n",
       "ParentalEducation    0\n",
       "StudyTimeWeekly      0\n",
       "Absences             0\n",
       "Tutoring             0\n",
       "ParentalSupport      0\n",
       "Extracurricular      0\n",
       "Sports               0\n",
       "Music                0\n",
       "Volunteering         0\n",
       "GPA                  0\n",
       "GradeClass           0\n",
       "dtype: int64"
      ]
     },
     "execution_count": 3,
     "metadata": {},
     "output_type": "execute_result"
    }
   ],
   "execution_count": 3
  },
  {
   "metadata": {
    "ExecuteTime": {
     "end_time": "2024-08-11T21:33:57.815373Z",
     "start_time": "2024-08-11T21:33:57.783659Z"
    }
   },
   "cell_type": "code",
   "source": [
    "#split dataset\n",
    "\n",
    "#convert numpy arrays\n",
    "X = df.drop(columns=['Tutoring', 'StudentID']).values\n",
    "y = df['Tutoring'].values\n",
    "\n",
    "X_train, X_test, y_train, y_test = train_test_split(X, y, test_size=0.2, random_state=42, shuffle=True)\n",
    "\n",
    "print('X_train shape is : {}'.format(X_train.shape),'\\n')\n",
    "print('X_test  shape is : {}'.format(X_test.shape),'\\n')\n",
    "print('y_train shape is : {}'.format(y_train.shape),'\\n')\n",
    "print('y_test  shape is : {}'.format(y_test.shape),'\\n')"
   ],
   "id": "3d6849ce9c80f0d1",
   "outputs": [
    {
     "name": "stdout",
     "output_type": "stream",
     "text": [
      "X_train shape is : (1913, 13) \n",
      "\n",
      "X_test  shape is : (479, 13) \n",
      "\n",
      "y_train shape is : (1913,) \n",
      "\n",
      "y_test  shape is : (479,) \n",
      "\n"
     ]
    }
   ],
   "execution_count": 4
  },
  {
   "metadata": {
    "ExecuteTime": {
     "end_time": "2024-08-11T21:33:57.832908Z",
     "start_time": "2024-08-11T21:33:57.818547Z"
    }
   },
   "cell_type": "code",
   "source": "type(X_train)",
   "id": "f8f7d524ff15627d",
   "outputs": [
    {
     "data": {
      "text/plain": [
       "numpy.ndarray"
      ]
     },
     "execution_count": 5,
     "metadata": {},
     "output_type": "execute_result"
    }
   ],
   "execution_count": 5
  },
  {
   "metadata": {
    "ExecuteTime": {
     "end_time": "2024-08-11T21:33:57.894812Z",
     "start_time": "2024-08-11T21:33:57.834132Z"
    }
   },
   "cell_type": "code",
   "source": [
    "data_loader = DataLoader(dataset = list(zip(X_train, y_train)),batch_size = 16, shuffle = True)\n",
    "data, labels = next(iter(data_loader))\n",
    "\n",
    "print(\"The shape of singular batch size of training : {}\".format(data.size()))\n",
    "print(\"The shape of singular batch size of testing  : {}\".format(labels.size()))\n",
    "     "
   ],
   "id": "3c9d6e2007c511bd",
   "outputs": [
    {
     "name": "stdout",
     "output_type": "stream",
     "text": [
      "The shape of singular batch size of training : torch.Size([16, 13])\n",
      "The shape of singular batch size of testing  : torch.Size([16])\n"
     ]
    }
   ],
   "execution_count": 6
  },
  {
   "metadata": {
    "ExecuteTime": {
     "end_time": "2024-08-11T21:33:57.926261Z",
     "start_time": "2024-08-11T21:33:57.894812Z"
    }
   },
   "cell_type": "code",
   "source": [
    "###ANN building\n",
    "\n",
    "class StudentClassifier(nn.Module):\n",
    "    def __init__(self):\n",
    "        super().__init__()\n",
    "        #create 1st hidden layer\n",
    "        self.hidden_layer_1 = nn.Linear(in_features=13, out_features=128, bias=True)\n",
    "        self.activation_1 = nn.ReLU()\n",
    "        #create 2nd hidden layer\n",
    "        self.hidden_layer_2 = nn.Linear(in_features=128, out_features=64, bias=True)\n",
    "        self.activation_2 = nn.ReLU()\n",
    "        #create output layer\n",
    "        self.output_layer = nn.Linear(in_features=64, out_features=1, bias=True)\n",
    "        self.activation_output = nn.Sigmoid()\n",
    "        \n",
    "    def forward(self, x):\n",
    "        #activation(W^T + B); x = training dataset\n",
    "        X = self.hidden_layer_1(x)\n",
    "        X = self.activation_1(X)\n",
    "        X = self.hidden_layer_2(X)\n",
    "        X = self.activation_2(X)\n",
    "        X = self.output_layer(X)\n",
    "        X = self.activation_output(X)\n",
    "        \n",
    "        return X\n",
    "    \n",
    "    \n",
    "model = StudentClassifier()\n",
    "print(model, '\\n\\n\\n')\n",
    "print(model.parameters)"
   ],
   "id": "1ef8d2aacae5bf16",
   "outputs": [
    {
     "name": "stdout",
     "output_type": "stream",
     "text": [
      "StudentClassifier(\n",
      "  (hidden_layer_1): Linear(in_features=13, out_features=128, bias=True)\n",
      "  (activation_1): ReLU()\n",
      "  (hidden_layer_2): Linear(in_features=128, out_features=64, bias=True)\n",
      "  (activation_2): ReLU()\n",
      "  (output_layer): Linear(in_features=64, out_features=1, bias=True)\n",
      "  (activation_output): Sigmoid()\n",
      ") \n",
      "\n",
      "\n",
      "\n",
      "<bound method Module.parameters of StudentClassifier(\n",
      "  (hidden_layer_1): Linear(in_features=13, out_features=128, bias=True)\n",
      "  (activation_1): ReLU()\n",
      "  (hidden_layer_2): Linear(in_features=128, out_features=64, bias=True)\n",
      "  (activation_2): ReLU()\n",
      "  (output_layer): Linear(in_features=64, out_features=1, bias=True)\n",
      "  (activation_output): Sigmoid()\n",
      ")>\n"
     ]
    }
   ],
   "execution_count": 7
  },
  {
   "metadata": {
    "ExecuteTime": {
     "end_time": "2024-08-11T21:33:58.021007Z",
     "start_time": "2024-08-11T21:33:57.926261Z"
    }
   },
   "cell_type": "code",
   "source": [
    "print(model.parameters(),'\\n\\n\\n')\n",
    "summary(model, X_train.shape)"
   ],
   "id": "d8b6cba4a45e7606",
   "outputs": [
    {
     "name": "stdout",
     "output_type": "stream",
     "text": [
      "<generator object Module.parameters at 0x000001B71771C580> \n",
      "\n",
      "\n",
      "\n",
      "----------------------------------------------------------------\n",
      "        Layer (type)               Output Shape         Param #\n",
      "================================================================\n",
      "            Linear-1            [-1, 1913, 128]           1,792\n",
      "              ReLU-2            [-1, 1913, 128]               0\n",
      "            Linear-3             [-1, 1913, 64]           8,256\n",
      "              ReLU-4             [-1, 1913, 64]               0\n",
      "            Linear-5              [-1, 1913, 1]              65\n",
      "           Sigmoid-6              [-1, 1913, 1]               0\n",
      "================================================================\n",
      "Total params: 10,113\n",
      "Trainable params: 10,113\n",
      "Non-trainable params: 0\n",
      "----------------------------------------------------------------\n",
      "Input size (MB): 0.09\n",
      "Forward/backward pass size (MB): 5.63\n",
      "Params size (MB): 0.04\n",
      "Estimated Total Size (MB): 5.77\n",
      "----------------------------------------------------------------\n"
     ]
    }
   ],
   "execution_count": 8
  },
  {
   "metadata": {
    "ExecuteTime": {
     "end_time": "2024-08-11T21:34:01.418446Z",
     "start_time": "2024-08-11T21:33:58.021007Z"
    }
   },
   "cell_type": "code",
   "source": [
    "criterion = nn.BCELoss()\n",
    "optimizer = optim.Adam(model.parameters(), lr=0.001)"
   ],
   "id": "5e5c29da48d6dc8c",
   "outputs": [],
   "execution_count": 9
  },
  {
   "metadata": {
    "ExecuteTime": {
     "end_time": "2024-08-11T21:34:20.717985Z",
     "start_time": "2024-08-11T21:34:01.424582Z"
    }
   },
   "cell_type": "code",
   "source": [
    "#training\n",
    "dtype = torch.float32 #making same dtype for X, y\n",
    "epochs = 64\n",
    "Loss = []\n",
    "model.train()\n",
    "for epoch in range(epochs):\n",
    "    #Call data_loader so that we can pass the X_train data to the model with batch_size\n",
    "    for X_batch, y_batch in data_loader:\n",
    "        X_batch = X_batch.to(dtype=dtype)\n",
    "        y_batch = y_batch.to(dtype=dtype)\n",
    "        #pass X_batch to the model\n",
    "        predictions = model(X_batch)\n",
    "        loss = criterion(predictions, y_batch.reshape(-1,1))\n",
    "        Loss.append(loss)\n",
    "        #Initialize the Gradient\n",
    "        optimizer.zero_grad()\n",
    "        #calculating loss, then do back propagation\n",
    "        loss.backward()\n",
    "        optimizer.step()\n",
    "    print('Epoch {}, Loss {}'.format(epoch, loss))"
   ],
   "id": "b96105fd88853c68",
   "outputs": [
    {
     "name": "stdout",
     "output_type": "stream",
     "text": [
      "Epoch 0, Loss 0.5444369912147522\n",
      "Epoch 1, Loss 0.625123143196106\n",
      "Epoch 2, Loss 0.5027535557746887\n",
      "Epoch 3, Loss 0.5186610221862793\n",
      "Epoch 4, Loss 0.4283457100391388\n",
      "Epoch 5, Loss 0.5373605489730835\n",
      "Epoch 6, Loss 0.6827988028526306\n",
      "Epoch 7, Loss 0.48820412158966064\n",
      "Epoch 8, Loss 0.5869844555854797\n",
      "Epoch 9, Loss 0.4740894138813019\n",
      "Epoch 10, Loss 0.3450116515159607\n",
      "Epoch 11, Loss 0.3562864065170288\n",
      "Epoch 12, Loss 0.5613839626312256\n",
      "Epoch 13, Loss 0.19043342769145966\n",
      "Epoch 14, Loss 0.43131983280181885\n",
      "Epoch 15, Loss 0.5232415199279785\n",
      "Epoch 16, Loss 0.4238390326499939\n",
      "Epoch 17, Loss 0.3556756377220154\n",
      "Epoch 18, Loss 0.413947194814682\n",
      "Epoch 19, Loss 0.5157075524330139\n",
      "Epoch 20, Loss 0.6102952361106873\n",
      "Epoch 21, Loss 0.29046130180358887\n",
      "Epoch 22, Loss 0.4042937159538269\n",
      "Epoch 23, Loss 0.2862425744533539\n",
      "Epoch 24, Loss 0.25708240270614624\n",
      "Epoch 25, Loss 0.4329336881637573\n",
      "Epoch 26, Loss 0.6181137561798096\n",
      "Epoch 27, Loss 0.41164645552635193\n",
      "Epoch 28, Loss 0.5100407600402832\n",
      "Epoch 29, Loss 0.5594363212585449\n",
      "Epoch 30, Loss 0.6906285285949707\n",
      "Epoch 31, Loss 0.6197512745857239\n",
      "Epoch 32, Loss 0.26260408759117126\n",
      "Epoch 33, Loss 0.7104413509368896\n",
      "Epoch 34, Loss 0.4712311327457428\n",
      "Epoch 35, Loss 0.5609330534934998\n",
      "Epoch 36, Loss 0.2017510086297989\n",
      "Epoch 37, Loss 0.15674704313278198\n",
      "Epoch 38, Loss 0.3171347379684448\n",
      "Epoch 39, Loss 0.7987973093986511\n",
      "Epoch 40, Loss 0.3251167833805084\n",
      "Epoch 41, Loss 0.20777297019958496\n",
      "Epoch 42, Loss 0.39965739846229553\n",
      "Epoch 43, Loss 0.297893762588501\n",
      "Epoch 44, Loss 0.44517701864242554\n",
      "Epoch 45, Loss 0.38437649607658386\n",
      "Epoch 46, Loss 0.510235607624054\n",
      "Epoch 47, Loss 0.5515751242637634\n",
      "Epoch 48, Loss 0.5879679918289185\n",
      "Epoch 49, Loss 0.37631991505622864\n",
      "Epoch 50, Loss 0.4550112187862396\n",
      "Epoch 51, Loss 0.29125621914863586\n",
      "Epoch 52, Loss 0.462247371673584\n",
      "Epoch 53, Loss 0.42698681354522705\n",
      "Epoch 54, Loss 0.3614436089992523\n",
      "Epoch 55, Loss 0.7124616503715515\n",
      "Epoch 56, Loss 0.3247942328453064\n",
      "Epoch 57, Loss 0.8002250790596008\n",
      "Epoch 58, Loss 0.3936857581138611\n",
      "Epoch 59, Loss 0.5173079967498779\n",
      "Epoch 60, Loss 0.3033236265182495\n",
      "Epoch 61, Loss 0.31906503438949585\n",
      "Epoch 62, Loss 0.5766153931617737\n",
      "Epoch 63, Loss 0.20081131160259247\n"
     ]
    }
   ],
   "execution_count": 10
  },
  {
   "metadata": {
    "ExecuteTime": {
     "end_time": "2024-08-11T21:34:23.859037Z",
     "start_time": "2024-08-11T21:34:20.717985Z"
    }
   },
   "cell_type": "code",
   "source": [
    "from sklearn.metrics import accuracy_score, precision_score, recall_score, f1_score\n",
    "import matplotlib.pyplot as plt\n",
    "\n",
    "with torch.no_grad():\n",
    "    plt.plot(Loss)"
   ],
   "id": "c4b7fdc92d1ecedd",
   "outputs": [
    {
     "data": {
      "text/plain": [
       "<Figure size 640x480 with 1 Axes>"
      ],
      "image/png": "[encoded data removed]"
     },
     "metadata": {},
     "output_type": "display_data"
    }
   ],
   "execution_count": 11
  },
  {
   "metadata": {
    "ExecuteTime": {
     "end_time": "2024-08-11T21:34:23.874659Z",
     "start_time": "2024-08-11T21:34:23.859037Z"
    }
   },
   "cell_type": "code",
   "source": [
    "X_test_tensor = torch.from_numpy(X_test).float()  # Convert to tensor and ensure it's of type float32\n",
    "predicted = model(X_test_tensor)"
   ],
   "id": "8bf2ca1509815eb0",
   "outputs": [],
   "execution_count": 12
  },
  {
   "metadata": {
    "ExecuteTime": {
     "end_time": "2024-08-11T21:34:23.890680Z",
     "start_time": "2024-08-11T21:34:23.874659Z"
    }
   },
   "cell_type": "code",
   "source": "y_pred = torch.where(predicted.flatten() > 0.5, 1, 0)",
   "id": "b3754238f7f5e052",
   "outputs": [],
   "execution_count": 13
  },
  {
   "metadata": {
    "ExecuteTime": {
     "end_time": "2024-08-11T21:34:23.921941Z",
     "start_time": "2024-08-11T21:34:23.890680Z"
    }
   },
   "cell_type": "code",
   "source": [
    "print(\"The accuracy score is  : \", accuracy_score(y_pred, y_test))\n",
    "print(\"The precision score is : \", precision_score(y_pred, y_test))\n",
    "print(\"The recall score is    : \", recall_score(y_pred, y_test))\n",
    "print(\"The f1 score of ths is : \", f1_score(y_pred, y_test))"
   ],
   "id": "d956167321e674d0",
   "outputs": [
    {
     "name": "stdout",
     "output_type": "stream",
     "text": [
      "The accuracy score is  :  0.6993736951983298\n",
      "The precision score is :  0.46153846153846156\n",
      "The recall score is    :  0.49624060150375937\n",
      "The f1 score of ths is :  0.4782608695652174\n"
     ]
    }
   ],
   "execution_count": 14
  },
  {
   "metadata": {},
   "cell_type": "markdown",
   "source": "### rather than accuracy score I try to show the architecture of ANN with pytorch",
   "id": "a801d33644d1a1d4"
  },
  {
   "metadata": {},
   "cell_type": "markdown",
   "source": "# Thanks",
   "id": "b8a11a09f7cd54dd"
  },
  {
   "metadata": {
    "ExecuteTime": {
     "end_time": "2024-08-11T21:37:07.252883Z",
     "start_time": "2024-08-11T21:37:07.205290Z"
    }
   },
   "cell_type": "code",
   "source": [
    "#display the weights and biases\n",
    "model.state_dict()"
   ],
   "id": "9b607c0b99745587",
   "outputs": [
    {
     "data": {
      "text/plain": [
       "OrderedDict([('hidden_layer_1.weight',\n",
       "              tensor([[-0.0068, -0.3332, -0.0206,  ...,  0.1447, -0.9161, -0.1385],\n",
       "                      [-0.3048, -0.7185,  0.1483,  ...,  0.2482, -0.3410, -0.2887],\n",
       "                      [-0.1766,  0.0529, -0.0999,  ...,  0.0149, -0.2616, -0.1428],\n",
       "                      ...,\n",
       "                      [-0.0365,  0.1047,  0.1363,  ..., -0.0356,  0.0314, -0.2457],\n",
       "                      [ 0.1090, -0.0721, -0.2045,  ...,  0.0466,  0.5422, -0.3609],\n",
       "                      [-0.0241, -0.0797,  0.0436,  ..., -0.1738, -0.3158,  0.4181]])),\n",
       "             ('hidden_layer_1.bias',\n",
       "              tensor([ 0.0836,  0.0425,  0.0198, -0.1714,  0.1449, -0.2025,  0.1242, -0.2488,\n",
       "                       0.1079, -0.2003, -0.2369,  0.3213,  0.1181,  0.2426,  0.0971, -0.1932,\n",
       "                       0.2224,  0.1083,  0.1232, -0.1107, -0.3212, -0.0093, -0.0815,  0.0750,\n",
       "                       0.0985,  0.0962,  0.3908, -0.1861, -0.1895, -0.0130,  0.1400,  0.0289,\n",
       "                       0.2974, -0.1307, -0.1284,  0.4293, -0.1868,  0.0277, -0.5290,  0.1480,\n",
       "                       0.3965,  0.2424, -0.2274,  0.1036, -0.0639,  0.2723, -0.0438,  0.0903,\n",
       "                       0.1252, -0.1821,  0.3238,  0.0598, -0.0896,  0.1878, -0.3609,  0.2317,\n",
       "                      -0.2326, -0.0575,  0.1195, -0.1193, -0.0119, -0.2253,  0.1219, -0.0914,\n",
       "                       0.1930,  0.0342, -0.1286, -0.2434, -0.2036, -0.3235, -0.0842,  0.1943,\n",
       "                      -0.4737, -0.3382,  0.0197, -0.0712, -0.0971,  0.2523, -0.0008,  0.3649,\n",
       "                       0.0996, -0.0123, -0.1080, -0.0958, -0.1620,  0.0875,  0.2765,  0.0464,\n",
       "                       0.1675, -0.4130, -0.1442,  0.2270, -0.1887, -0.1616, -0.0107,  0.1208,\n",
       "                       0.0514,  0.2386,  0.1246,  0.3295, -0.2892,  0.4344, -0.0395, -0.0994,\n",
       "                      -0.0932,  0.0504,  0.3842,  0.1455, -0.0567,  0.2173,  0.0225, -0.2740,\n",
       "                       0.2711,  0.0990, -0.0636, -0.0271, -0.1985, -0.1323,  0.4050, -0.2510,\n",
       "                       0.1360,  0.1883, -0.1610, -0.2604, -0.2196, -0.1288, -0.1941, -0.0229])),\n",
       "             ('hidden_layer_2.weight',\n",
       "              tensor([[-0.0388, -0.0532, -0.0855,  ...,  0.0411,  0.0140, -0.0867],\n",
       "                      [-0.0721,  0.0622, -0.0024,  ..., -0.0963, -0.0061, -0.0566],\n",
       "                      [ 0.0289, -0.0408,  0.0284,  ..., -0.0593,  0.0230,  0.0282],\n",
       "                      ...,\n",
       "                      [-0.0946, -0.0736,  0.0863,  ...,  0.0292, -0.0694, -0.0121],\n",
       "                      [-0.0238,  0.0332,  0.0484,  ...,  0.0310,  0.0519,  0.0390],\n",
       "                      [-0.1300, -0.1128,  0.0046,  ...,  0.2260,  0.1105, -0.0266]])),\n",
       "             ('hidden_layer_2.bias',\n",
       "              tensor([ 0.0168, -0.0170, -0.0618, -0.0500, -0.1447, -0.0286, -0.0964,  0.1419,\n",
       "                      -0.0641, -0.0652,  0.3385,  0.3222,  0.0546, -0.0152, -0.0278, -0.0929,\n",
       "                      -0.0409,  0.2233, -0.1638,  0.0486,  0.0077,  0.0187,  0.2699,  0.0035,\n",
       "                       0.0027, -0.0499,  0.0169, -0.0238, -0.0389, -0.1827, -0.1060, -0.1909,\n",
       "                      -0.0248, -0.0370, -0.0364,  0.0603,  0.3192,  0.0678, -0.0034, -0.1012,\n",
       "                      -0.1288, -0.0788,  0.0504,  0.1295,  0.2138,  0.1389, -0.0670, -0.0210,\n",
       "                       0.1504,  0.2979,  0.0237,  0.2438,  0.1530, -0.0952, -0.1340, -0.0180,\n",
       "                      -0.0469, -0.0064, -0.1003, -0.0633,  0.0112,  0.0147, -0.0706, -0.1421])),\n",
       "             ('output_layer.weight',\n",
       "              tensor([[ 7.0876e-02, -9.9498e-05,  3.3135e-02,  1.7206e-03,  2.5126e-01,\n",
       "                       -1.8983e-02, -7.3863e-02, -1.2288e-01, -7.6885e-02,  1.5642e-02,\n",
       "                       -2.0567e-01, -8.3559e-02,  9.2729e-02,  1.1650e-01, -4.2050e-02,\n",
       "                        8.0783e-03,  6.7255e-02, -1.4916e-01,  6.8061e-02,  2.3645e-02,\n",
       "                        6.4607e-02,  3.3109e-02, -2.6627e-01,  1.6917e-03,  4.0734e-02,\n",
       "                        1.5133e-02,  1.9511e-01,  2.8779e-03, -5.4961e-02,  3.1687e-01,\n",
       "                       -8.4195e-03,  2.2431e-01, -6.5536e-03,  4.5316e-02,  2.0997e-02,\n",
       "                        1.0744e-01, -2.1490e-01, -4.7247e-02,  8.7821e-02, -8.0686e-02,\n",
       "                        2.1843e-01,  4.2687e-02,  4.4926e-02, -2.1244e-01, -1.4639e-01,\n",
       "                       -2.5743e-01,  3.9248e-02,  1.4032e-02, -1.0269e-01, -1.6387e-01,\n",
       "                        8.0351e-02, -1.0514e-01, -1.3339e-01,  2.1511e-02,  2.7901e-01,\n",
       "                       -1.7091e-03, -1.9077e-02, -5.5290e-02,  2.0456e-01,  9.8684e-04,\n",
       "                        1.5651e-02,  5.7342e-02,  6.0372e-02,  1.6442e-01]])),\n",
       "             ('output_layer.bias', tensor([-0.1307]))])"
      ]
     },
     "execution_count": 17,
     "metadata": {},
     "output_type": "execute_result"
    }
   ],
   "execution_count": 17
  },
  {
   "metadata": {
    "ExecuteTime": {
     "end_time": "2024-08-11T21:37:48.037354Z",
     "start_time": "2024-08-11T21:37:48.021836Z"
    }
   },
   "cell_type": "code",
   "source": [
    "#the key() of model.state_dict() functions\n",
    "print(model.state_dict().keys())"
   ],
   "id": "dc02ccedd6ad6b52",
   "outputs": [
    {
     "name": "stdout",
     "output_type": "stream",
     "text": [
      "odict_keys(['hidden_layer_1.weight', 'hidden_layer_1.bias', 'hidden_layer_2.weight', 'hidden_layer_2.bias', 'output_layer.weight', 'output_layer.bias'])\n"
     ]
    }
   ],
   "execution_count": 18
  },
  {
   "metadata": {
    "ExecuteTime": {
     "end_time": "2024-08-11T21:38:52.037072Z",
     "start_time": "2024-08-11T21:38:52.005845Z"
    }
   },
   "cell_type": "code",
   "source": [
    "\"\"\"\n",
    "  Define a function named `checkpoint`\n",
    "  torch.save(model_weight, filename). filename might be [`best_model.pth`]\n",
    "\"\"\"\n",
    "def checkpoint(model = None, filename = None):\n",
    "  try:\n",
    "    torch.save(model.state_dict(), filename)\n",
    "  except Exception as e:\n",
    "    print(e.with_traceback)\n",
    "\n",
    "\"\"\"\n",
    "  Define the function named `resume`\n",
    "  torch.load(filename): - filename might be [`best_model.pth`]\n",
    "\"\"\"\n",
    "def resume(model = None, filename = None):\n",
    "  try:\n",
    "    model.load_state_dict(torch.load(filename))\n",
    "  except Exception as e:\n",
    "    print(e.with_traceback)"
   ],
   "id": "8048b5d9e95efc42",
   "outputs": [],
   "execution_count": 19
  },
  {
   "metadata": {},
   "cell_type": "code",
   "outputs": [],
   "execution_count": null,
   "source": "",
   "id": "e4289c9a13a22bba"
  }
 ],
 "metadata": {
  "kernelspec": {
   "display_name": "Python 3",
   "language": "python",
   "name": "python3"
  },
  "language_info": {
   "codemirror_mode": {
    "name": "ipython",
    "version": 2
   },
   "file_extension": ".py",
   "mimetype": "text/x-python",
   "name": "python",
   "nbconvert_exporter": "python",
   "pygments_lexer": "ipython2",
   "version": "2.7.6"
  }
 },
 "nbformat": 4,
 "nbformat_minor": 5
}
