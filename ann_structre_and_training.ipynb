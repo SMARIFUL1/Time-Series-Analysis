{
 "cells": [
  {
   "cell_type": "code",
   "id": "initial_id",
   "metadata": {
    "collapsed": true,
    "ExecuteTime": {
     "end_time": "2024-08-09T21:56:04.028266Z",
     "start_time": "2024-08-09T21:55:58.281433Z"
    }
   },
   "source": [
    "import numpy as np\n",
    "import pandas as pd\n",
    "from sklearn.model_selection import train_test_split\n",
    "import torch\n",
    "import torch.nn as nn\n",
    "from torch.utils.data import Dataset, DataLoader, TensorDataset\n",
    "import torch.optim as optim\n",
    "from torchsummary import summary\n",
    "import warnings\n",
    "warnings.filterwarnings(\"ignore\")"
   ],
   "outputs": [],
   "execution_count": 1
  },
  {
   "metadata": {
    "ExecuteTime": {
     "end_time": "2024-08-09T21:56:04.091348Z",
     "start_time": "2024-08-09T21:56:04.032416Z"
    }
   },
   "cell_type": "code",
   "source": [
    "df = pd.read_csv(\"D:\\data\\Student_performance_data _.csv\")\n",
    "df.sample(5)"
   ],
   "id": "5bd0c7dd33734209",
   "outputs": [
    {
     "data": {
      "text/plain": [
       "      StudentID  Age  Gender  Ethnicity  ParentalEducation  StudyTimeWeekly  \\\n",
       "8          1009   17       0          0                  0         4.562008   \n",
       "332        1333   18       0          0                  2        12.133786   \n",
       "1682       2683   15       1          1                  2        11.485871   \n",
       "820        1821   17       1          0                  0         4.190384   \n",
       "2284       3285   16       0          0                  1        13.673991   \n",
       "\n",
       "      Absences  Tutoring  ParentalSupport  Extracurricular  Sports  Music  \\\n",
       "8            1         0                2                0       1      0   \n",
       "332          2         0                0                0       0      0   \n",
       "1682         1         0                2                0       1      0   \n",
       "820         17         0                1                0       0      1   \n",
       "2284        14         0                1                1       0      0   \n",
       "\n",
       "      Volunteering       GPA  GradeClass  \n",
       "8                1  2.896819         2.0  \n",
       "332              0  2.780817         2.0  \n",
       "1682             0  3.121119         1.0  \n",
       "820              0  1.482596         4.0  \n",
       "2284             0  1.699825         0.0  "
      ],
      "text/html": [
       "<div>\n",
       "<style scoped>\n",
       "    .dataframe tbody tr th:only-of-type {\n",
       "        vertical-align: middle;\n",
       "    }\n",
       "\n",
       "    .dataframe tbody tr th {\n",
       "        vertical-align: top;\n",
       "    }\n",
       "\n",
       "    .dataframe thead th {\n",
       "        text-align: right;\n",
       "    }\n",
       "</style>\n",
       "<table border=\"1\" class=\"dataframe\">\n",
       "  <thead>\n",
       "    <tr style=\"text-align: right;\">\n",
       "      <th></th>\n",
       "      <th>StudentID</th>\n",
       "      <th>Age</th>\n",
       "      <th>Gender</th>\n",
       "      <th>Ethnicity</th>\n",
       "      <th>ParentalEducation</th>\n",
       "      <th>StudyTimeWeekly</th>\n",
       "      <th>Absences</th>\n",
       "      <th>Tutoring</th>\n",
       "      <th>ParentalSupport</th>\n",
       "      <th>Extracurricular</th>\n",
       "      <th>Sports</th>\n",
       "      <th>Music</th>\n",
       "      <th>Volunteering</th>\n",
       "      <th>GPA</th>\n",
       "      <th>GradeClass</th>\n",
       "    </tr>\n",
       "  </thead>\n",
       "  <tbody>\n",
       "    <tr>\n",
       "      <th>8</th>\n",
       "      <td>1009</td>\n",
       "      <td>17</td>\n",
       "      <td>0</td>\n",
       "      <td>0</td>\n",
       "      <td>0</td>\n",
       "      <td>4.562008</td>\n",
       "      <td>1</td>\n",
       "      <td>0</td>\n",
       "      <td>2</td>\n",
       "      <td>0</td>\n",
       "      <td>1</td>\n",
       "      <td>0</td>\n",
       "      <td>1</td>\n",
       "      <td>2.896819</td>\n",
       "      <td>2.0</td>\n",
       "    </tr>\n",
       "    <tr>\n",
       "      <th>332</th>\n",
       "      <td>1333</td>\n",
       "      <td>18</td>\n",
       "      <td>0</td>\n",
       "      <td>0</td>\n",
       "      <td>2</td>\n",
       "      <td>12.133786</td>\n",
       "      <td>2</td>\n",
       "      <td>0</td>\n",
       "      <td>0</td>\n",
       "      <td>0</td>\n",
       "      <td>0</td>\n",
       "      <td>0</td>\n",
       "      <td>0</td>\n",
       "      <td>2.780817</td>\n",
       "      <td>2.0</td>\n",
       "    </tr>\n",
       "    <tr>\n",
       "      <th>1682</th>\n",
       "      <td>2683</td>\n",
       "      <td>15</td>\n",
       "      <td>1</td>\n",
       "      <td>1</td>\n",
       "      <td>2</td>\n",
       "      <td>11.485871</td>\n",
       "      <td>1</td>\n",
       "      <td>0</td>\n",
       "      <td>2</td>\n",
       "      <td>0</td>\n",
       "      <td>1</td>\n",
       "      <td>0</td>\n",
       "      <td>0</td>\n",
       "      <td>3.121119</td>\n",
       "      <td>1.0</td>\n",
       "    </tr>\n",
       "    <tr>\n",
       "      <th>820</th>\n",
       "      <td>1821</td>\n",
       "      <td>17</td>\n",
       "      <td>1</td>\n",
       "      <td>0</td>\n",
       "      <td>0</td>\n",
       "      <td>4.190384</td>\n",
       "      <td>17</td>\n",
       "      <td>0</td>\n",
       "      <td>1</td>\n",
       "      <td>0</td>\n",
       "      <td>0</td>\n",
       "      <td>1</td>\n",
       "      <td>0</td>\n",
       "      <td>1.482596</td>\n",
       "      <td>4.0</td>\n",
       "    </tr>\n",
       "    <tr>\n",
       "      <th>2284</th>\n",
       "      <td>3285</td>\n",
       "      <td>16</td>\n",
       "      <td>0</td>\n",
       "      <td>0</td>\n",
       "      <td>1</td>\n",
       "      <td>13.673991</td>\n",
       "      <td>14</td>\n",
       "      <td>0</td>\n",
       "      <td>1</td>\n",
       "      <td>1</td>\n",
       "      <td>0</td>\n",
       "      <td>0</td>\n",
       "      <td>0</td>\n",
       "      <td>1.699825</td>\n",
       "      <td>0.0</td>\n",
       "    </tr>\n",
       "  </tbody>\n",
       "</table>\n",
       "</div>"
      ]
     },
     "execution_count": 2,
     "metadata": {},
     "output_type": "execute_result"
    }
   ],
   "execution_count": 2
  },
  {
   "metadata": {
    "ExecuteTime": {
     "end_time": "2024-08-09T21:56:04.122594Z",
     "start_time": "2024-08-09T21:56:04.091348Z"
    }
   },
   "cell_type": "code",
   "source": "df.isnull().sum()",
   "id": "a0ba64f8362529ba",
   "outputs": [
    {
     "data": {
      "text/plain": [
       "StudentID            0\n",
       "Age                  0\n",
       "Gender               0\n",
       "Ethnicity            0\n",
       "ParentalEducation    0\n",
       "StudyTimeWeekly      0\n",
       "Absences             0\n",
       "Tutoring             0\n",
       "ParentalSupport      0\n",
       "Extracurricular      0\n",
       "Sports               0\n",
       "Music                0\n",
       "Volunteering         0\n",
       "GPA                  0\n",
       "GradeClass           0\n",
       "dtype: int64"
      ]
     },
     "execution_count": 3,
     "metadata": {},
     "output_type": "execute_result"
    }
   ],
   "execution_count": 3
  },
  {
   "metadata": {
    "ExecuteTime": {
     "end_time": "2024-08-09T21:56:04.169567Z",
     "start_time": "2024-08-09T21:56:04.122594Z"
    }
   },
   "cell_type": "code",
   "source": [
    "#split dataset\n",
    "\n",
    "#convert numpy arrays\n",
    "X = df.drop(columns=['Tutoring', 'StudentID']).values\n",
    "y = df['Tutoring'].values\n",
    "\n",
    "X_train, X_test, y_train, y_test = train_test_split(X, y, test_size=0.2, random_state=42, shuffle=True)\n",
    "\n",
    "print('X_train shape is : {}'.format(X_train.shape),'\\n')\n",
    "print('X_test  shape is : {}'.format(X_test.shape),'\\n')\n",
    "print('y_train shape is : {}'.format(y_train.shape),'\\n')\n",
    "print('y_test  shape is : {}'.format(y_test.shape),'\\n')"
   ],
   "id": "3d6849ce9c80f0d1",
   "outputs": [
    {
     "name": "stdout",
     "output_type": "stream",
     "text": [
      "X_train shape is : (1913, 13) \n",
      "\n",
      "X_test  shape is : (479, 13) \n",
      "\n",
      "y_train shape is : (1913,) \n",
      "\n",
      "y_test  shape is : (479,) \n",
      "\n"
     ]
    }
   ],
   "execution_count": 4
  },
  {
   "metadata": {
    "ExecuteTime": {
     "end_time": "2024-08-09T21:56:04.185604Z",
     "start_time": "2024-08-09T21:56:04.175589Z"
    }
   },
   "cell_type": "code",
   "source": "type(X_train)",
   "id": "f8f7d524ff15627d",
   "outputs": [
    {
     "data": {
      "text/plain": [
       "numpy.ndarray"
      ]
     },
     "execution_count": 5,
     "metadata": {},
     "output_type": "execute_result"
    }
   ],
   "execution_count": 5
  },
  {
   "metadata": {
    "ExecuteTime": {
     "end_time": "2024-08-09T21:56:04.217429Z",
     "start_time": "2024-08-09T21:56:04.185604Z"
    }
   },
   "cell_type": "code",
   "source": [
    "data_loader = DataLoader(dataset = list(zip(X_train, y_train)),batch_size = 16, shuffle = True)\n",
    "data, labels = next(iter(data_loader))\n",
    "\n",
    "print(\"The shape of singular batch size of training : {}\".format(data.size()))\n",
    "print(\"The shape of singular batch size of testing  : {}\".format(labels.size()))\n",
    "     "
   ],
   "id": "3c9d6e2007c511bd",
   "outputs": [
    {
     "name": "stdout",
     "output_type": "stream",
     "text": [
      "The shape of singular batch size of training : torch.Size([16, 13])\n",
      "The shape of singular batch size of testing  : torch.Size([16])\n"
     ]
    }
   ],
   "execution_count": 6
  },
  {
   "metadata": {
    "ExecuteTime": {
     "end_time": "2024-08-09T21:56:04.248703Z",
     "start_time": "2024-08-09T21:56:04.217429Z"
    }
   },
   "cell_type": "code",
   "source": [
    "###ANN building\n",
    "\n",
    "class StudentClassifier(nn.Module):\n",
    "    def __init__(self):\n",
    "        super().__init__()\n",
    "        #create 1st hidden layer\n",
    "        self.hidden_layer_1 = nn.Linear(in_features=13, out_features=128, bias=True)\n",
    "        self.activation_1 = nn.ReLU()\n",
    "        #create 2nd hidden layer\n",
    "        self.hidden_layer_2 = nn.Linear(in_features=128, out_features=64, bias=True)\n",
    "        self.activation_2 = nn.ReLU()\n",
    "        #create output layer\n",
    "        self.output_layer = nn.Linear(in_features=64, out_features=1, bias=True)\n",
    "        self.activation_output = nn.Sigmoid()\n",
    "        \n",
    "    def forward(self, x):\n",
    "        #activation(W^T + B); x = training dataset\n",
    "        X = self.hidden_layer_1(x)\n",
    "        X = self.activation_1(X)\n",
    "        X = self.hidden_layer_2(X)\n",
    "        X = self.activation_2(X)\n",
    "        X = self.output_layer(X)\n",
    "        X = self.activation_output(X)\n",
    "        \n",
    "        return X\n",
    "    \n",
    "    \n",
    "model = StudentClassifier()\n",
    "print(model, '\\n\\n\\n')\n",
    "print(model.parameters)"
   ],
   "id": "1ef8d2aacae5bf16",
   "outputs": [
    {
     "name": "stdout",
     "output_type": "stream",
     "text": [
      "StudentClassifier(\n",
      "  (hidden_layer_1): Linear(in_features=13, out_features=128, bias=True)\n",
      "  (activation_1): ReLU()\n",
      "  (hidden_layer_2): Linear(in_features=128, out_features=64, bias=True)\n",
      "  (activation_2): ReLU()\n",
      "  (output_layer): Linear(in_features=64, out_features=1, bias=True)\n",
      "  (activation_output): Sigmoid()\n",
      ") \n",
      "\n",
      "\n",
      "\n",
      "<bound method Module.parameters of StudentClassifier(\n",
      "  (hidden_layer_1): Linear(in_features=13, out_features=128, bias=True)\n",
      "  (activation_1): ReLU()\n",
      "  (hidden_layer_2): Linear(in_features=128, out_features=64, bias=True)\n",
      "  (activation_2): ReLU()\n",
      "  (output_layer): Linear(in_features=64, out_features=1, bias=True)\n",
      "  (activation_output): Sigmoid()\n",
      ")>\n"
     ]
    }
   ],
   "execution_count": 7
  },
  {
   "metadata": {
    "ExecuteTime": {
     "end_time": "2024-08-09T21:56:04.280344Z",
     "start_time": "2024-08-09T21:56:04.248703Z"
    }
   },
   "cell_type": "code",
   "source": [
    "print(model.parameters(),'\\n\\n\\n')\n",
    "summary(model, X_train.shape)"
   ],
   "id": "d8b6cba4a45e7606",
   "outputs": [
    {
     "name": "stdout",
     "output_type": "stream",
     "text": [
      "<generator object Module.parameters at 0x000002C835600660> \n",
      "\n",
      "\n",
      "\n",
      "----------------------------------------------------------------\n",
      "        Layer (type)               Output Shape         Param #\n",
      "================================================================\n",
      "            Linear-1            [-1, 1913, 128]           1,792\n",
      "              ReLU-2            [-1, 1913, 128]               0\n",
      "            Linear-3             [-1, 1913, 64]           8,256\n",
      "              ReLU-4             [-1, 1913, 64]               0\n",
      "            Linear-5              [-1, 1913, 1]              65\n",
      "           Sigmoid-6              [-1, 1913, 1]               0\n",
      "================================================================\n",
      "Total params: 10,113\n",
      "Trainable params: 10,113\n",
      "Non-trainable params: 0\n",
      "----------------------------------------------------------------\n",
      "Input size (MB): 0.09\n",
      "Forward/backward pass size (MB): 5.63\n",
      "Params size (MB): 0.04\n",
      "Estimated Total Size (MB): 5.77\n",
      "----------------------------------------------------------------\n"
     ]
    }
   ],
   "execution_count": 8
  },
  {
   "metadata": {
    "ExecuteTime": {
     "end_time": "2024-08-09T21:56:07.622060Z",
     "start_time": "2024-08-09T21:56:04.280344Z"
    }
   },
   "cell_type": "code",
   "source": [
    "criterion = nn.BCELoss()\n",
    "optimizer = optim.Adam(model.parameters(), lr=0.001)"
   ],
   "id": "5e5c29da48d6dc8c",
   "outputs": [],
   "execution_count": 9
  },
  {
   "metadata": {
    "ExecuteTime": {
     "end_time": "2024-08-09T22:20:50.797386Z",
     "start_time": "2024-08-09T22:20:10.502494Z"
    }
   },
   "cell_type": "code",
   "source": [
    "#training\n",
    "dtype = torch.float32 #making same dtype for X, y\n",
    "epochs = 64\n",
    "Loss = []\n",
    "model.train()\n",
    "for epoch in range(epochs):\n",
    "    #Call data_loader so that we can pass the X_train data to the model with batch_size\n",
    "    for X_batch, y_batch in data_loader:\n",
    "        X_batch = X_batch.to(dtype=dtype)\n",
    "        y_batch = y_batch.to(dtype=dtype)\n",
    "        #pass X_batch to the model\n",
    "        predictions = model(X_batch)\n",
    "        loss = criterion(predictions, y_batch.reshape(-1,1))\n",
    "        Loss.append(loss)\n",
    "        #Initialize the Gradient\n",
    "        optimizer.zero_grad()\n",
    "        #calculating loss, then do back propagation\n",
    "        loss.backward()\n",
    "        optimizer.step()\n",
    "    print('Epoch {}, Loss {}'.format(epoch, loss))"
   ],
   "id": "b96105fd88853c68",
   "outputs": [
    {
     "name": "stdout",
     "output_type": "stream",
     "text": [
      "Epoch 0, Loss 0.012374591082334518\n",
      "Epoch 1, Loss 0.04443434998393059\n",
      "Epoch 2, Loss 0.11617643386125565\n",
      "Epoch 3, Loss 0.18167608976364136\n",
      "Epoch 4, Loss 0.24897480010986328\n",
      "Epoch 5, Loss 0.26619279384613037\n",
      "Epoch 6, Loss 0.20357383787631989\n",
      "Epoch 7, Loss 0.40752312541007996\n",
      "Epoch 8, Loss 0.07117115706205368\n",
      "Epoch 9, Loss 0.26000943779945374\n",
      "Epoch 10, Loss 0.5083851218223572\n",
      "Epoch 11, Loss 0.18069492280483246\n",
      "Epoch 12, Loss 0.05300251394510269\n",
      "Epoch 13, Loss 0.18163108825683594\n",
      "Epoch 14, Loss 0.23095332086086273\n",
      "Epoch 15, Loss 0.1572723686695099\n",
      "Epoch 16, Loss 0.1020374447107315\n",
      "Epoch 17, Loss 0.12226007878780365\n",
      "Epoch 18, Loss 0.2019486278295517\n",
      "Epoch 19, Loss 0.18847888708114624\n",
      "Epoch 20, Loss 0.22682523727416992\n",
      "Epoch 21, Loss 0.14002221822738647\n",
      "Epoch 22, Loss 0.07797139883041382\n",
      "Epoch 23, Loss 0.028302202001214027\n",
      "Epoch 24, Loss 0.15405753254890442\n",
      "Epoch 25, Loss 0.28727033734321594\n",
      "Epoch 26, Loss 0.14662325382232666\n",
      "Epoch 27, Loss 0.12586259841918945\n",
      "Epoch 28, Loss 0.17287273705005646\n",
      "Epoch 29, Loss 0.4184983968734741\n",
      "Epoch 30, Loss 0.41831842064857483\n",
      "Epoch 31, Loss 0.06879749149084091\n",
      "Epoch 32, Loss 0.07544580101966858\n",
      "Epoch 33, Loss 0.024055859073996544\n",
      "Epoch 34, Loss 0.23873597383499146\n",
      "Epoch 35, Loss 0.168826162815094\n",
      "Epoch 36, Loss 0.11794645339250565\n",
      "Epoch 37, Loss 0.09868565201759338\n",
      "Epoch 38, Loss 0.09805834293365479\n",
      "Epoch 39, Loss 0.13333146274089813\n",
      "Epoch 40, Loss 0.10110190510749817\n",
      "Epoch 41, Loss 0.03386460617184639\n",
      "Epoch 42, Loss 0.06812772154808044\n",
      "Epoch 43, Loss 0.23877225816249847\n",
      "Epoch 44, Loss 0.332236111164093\n",
      "Epoch 45, Loss 0.02878335490822792\n",
      "Epoch 46, Loss 0.20518982410430908\n",
      "Epoch 47, Loss 0.06606288254261017\n",
      "Epoch 48, Loss 0.05085618793964386\n",
      "Epoch 49, Loss 0.27861320972442627\n",
      "Epoch 50, Loss 0.20532263815402985\n",
      "Epoch 51, Loss 0.15096831321716309\n",
      "Epoch 52, Loss 0.09373956173658371\n",
      "Epoch 53, Loss 0.09462051093578339\n",
      "Epoch 54, Loss 0.16076937317848206\n",
      "Epoch 55, Loss 0.07338210940361023\n",
      "Epoch 56, Loss 0.19293037056922913\n",
      "Epoch 57, Loss 0.113797627389431\n",
      "Epoch 58, Loss 0.14344562590122223\n",
      "Epoch 59, Loss 0.13636541366577148\n",
      "Epoch 60, Loss 0.12179197371006012\n",
      "Epoch 61, Loss 0.1611882895231247\n",
      "Epoch 62, Loss 0.18350756168365479\n",
      "Epoch 63, Loss 0.07764264941215515\n"
     ]
    }
   ],
   "execution_count": 26
  },
  {
   "metadata": {
    "ExecuteTime": {
     "end_time": "2024-08-09T22:20:51.127955Z",
     "start_time": "2024-08-09T22:20:50.797386Z"
    }
   },
   "cell_type": "code",
   "source": [
    "from sklearn.metrics import accuracy_score, precision_score, recall_score, f1_score\n",
    "import matplotlib.pyplot as plt\n",
    "\n",
    "with torch.no_grad():\n",
    "    plt.plot(Loss)"
   ],
   "id": "c4b7fdc92d1ecedd",
   "outputs": [
    {
     "data": {
      "text/plain": [
       "<Figure size 640x480 with 1 Axes>"
      ],
      "image/png": "[encoded data removed]"
     },
     "metadata": {},
     "output_type": "display_data"
    }
   ],
   "execution_count": 27
  },
  {
   "metadata": {
    "ExecuteTime": {
     "end_time": "2024-08-09T22:20:51.159915Z",
     "start_time": "2024-08-09T22:20:51.127955Z"
    }
   },
   "cell_type": "code",
   "source": [
    "X_test_tensor = torch.from_numpy(X_test).float()  # Convert to tensor and ensure it's of type float32\n",
    "predicted = model(X_test_tensor)"
   ],
   "id": "8bf2ca1509815eb0",
   "outputs": [],
   "execution_count": 28
  },
  {
   "metadata": {
    "ExecuteTime": {
     "end_time": "2024-08-09T22:20:51.222944Z",
     "start_time": "2024-08-09T22:20:51.167179Z"
    }
   },
   "cell_type": "code",
   "source": "y_pred = torch.where(predicted.flatten() > 0.5, 1, 0)",
   "id": "b3754238f7f5e052",
   "outputs": [],
   "execution_count": 29
  },
  {
   "metadata": {
    "ExecuteTime": {
     "end_time": "2024-08-09T22:21:31.513083Z",
     "start_time": "2024-08-09T22:21:31.486116Z"
    }
   },
   "cell_type": "code",
   "source": [
    "print(\"The accuracy score is  : \", accuracy_score(y_pred, y_test))\n",
    "print(\"The precision score is : \", precision_score(y_pred, y_test))\n",
    "print(\"The recall score is    : \", recall_score(y_pred, y_test))\n",
    "print(\"The f1 score of ths is : \", f1_score(y_pred, y_test))"
   ],
   "id": "d956167321e674d0",
   "outputs": [
    {
     "name": "stdout",
     "output_type": "stream",
     "text": [
      "The accuracy score is  :  0.6951983298538622\n",
      "The precision score is :  0.5594405594405595\n",
      "The recall score is    :  0.49079754601226994\n",
      "The f1 score of ths is :  0.5228758169934641\n"
     ]
    }
   ],
   "execution_count": 31
  },
  {
   "metadata": {},
   "cell_type": "markdown",
   "source": "### rather than accuracy score I try to show the architecture of ANN with pytorch",
   "id": "a801d33644d1a1d4"
  },
  {
   "metadata": {},
   "cell_type": "markdown",
   "source": "# Thanks",
   "id": "b8a11a09f7cd54dd"
  }
 ],
 "metadata": {
  "kernelspec": {
   "display_name": "Python 3",
   "language": "python",
   "name": "python3"
  },
  "language_info": {
   "codemirror_mode": {
    "name": "ipython",
    "version": 2
   },
   "file_extension": ".py",
   "mimetype": "text/x-python",
   "name": "python",
   "nbconvert_exporter": "python",
   "pygments_lexer": "ipython2",
   "version": "2.7.6"
  }
 },
 "nbformat": 4,
 "nbformat_minor": 5
}
